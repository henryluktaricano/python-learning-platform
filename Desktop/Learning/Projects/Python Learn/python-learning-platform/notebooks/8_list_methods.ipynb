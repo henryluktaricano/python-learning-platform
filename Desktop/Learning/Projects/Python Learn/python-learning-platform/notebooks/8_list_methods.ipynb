{
 "cells": [
  {
   "cell_type": "markdown",
   "metadata": {},
   "source": [
    "# Lists have built-in methods...\n",
    "\n",
    "Note how lists are re-assignable through these methods...\n",
    "\n",
    "    list.append() ----> appends a new object specified at the end of a list.\n",
    "\n",
    "    list.pop() -------> pops off an item from the end of a list or from spe cified index. it ALSO returns the 'popped' element if saved. \n",
    "\n",
    "    list.sort() ------> sorts by default on a alphabetical order, or on a numerical order. \n",
    "\n",
    "    list.reverse() ---> self-explanatory"
   ]
  },
  {
   "cell_type": "code",
   "execution_count": 1,
   "metadata": {},
   "outputs": [
    {
     "name": "stdout",
     "output_type": "stream",
     "text": [
      "[1, 25, 3, 5, 2, 6, 4, 9, 'seven']\n",
      "[1, 25, 3, 5, 2, 6, 4, 9]\n",
      "We just popped the number: seven\n",
      "[25, 3, 5, 2, 6, 4, 9]\n",
      "We just popped the number: 1\n",
      "[1, 2, 3, 4, 5, 6, 9, 25]\n",
      "[25, 9, 6, 5, 4, 3, 2, 1]\n"
     ]
    }
   ],
   "source": [
    "mylist = [1,25,3,5,2,6,4,9]\n",
    "\n",
    "mylist.append('seven')\n",
    "print(mylist)\n",
    "\n",
    "popped = mylist.pop()\n",
    "print(mylist)\n",
    "print(f'We just popped the number: {popped}')\n",
    "\n",
    "popped2 = mylist.pop(0)\n",
    "print(mylist)\n",
    "print(f'We just popped the number: {popped2}')\n",
    "\n",
    "mylist.append(popped2)\n",
    "mylist.sort()\n",
    "print(mylist)\n",
    "\n",
    "mylist.reverse()\n",
    "print(mylist)\n"
   ]
  },
  {
   "cell_type": "code",
   "execution_count": 2,
   "metadata": {},
   "outputs": [
    {
     "name": "stdout",
     "output_type": "stream",
     "text": [
      "<class 'NoneType'>\n",
      "<class 'int'>\n",
      "<class 'NoneType'>\n",
      "<class 'NoneType'>\n"
     ]
    },
    {
     "data": {
      "text/plain": [
       "' So in the cases of NoneTypes, to make a variable out of the method,\\nyou would actually run the method in-line, and essentially be renaming\\nthe transformed variable with a new variable name, whilst the original\\nvariable has already been operated on '"
      ]
     },
     "execution_count": 2,
     "metadata": {},
     "output_type": "execute_result"
    }
   ],
   "source": [
    "### Note that some of these method's data type are NoneTypes\n",
    "\n",
    "print(type(mylist.append(10))) # NoneType\n",
    "print(type(mylist.pop())) # this one is actually the value of popped item\n",
    "print(type(mylist.sort())) # NoneType\n",
    "print(type(mylist.reverse())) # NoneType\n",
    "\n",
    "''' So in the cases of NoneTypes, to make a variable out of the method,\n",
    "you would actually run the method in-line, and essentially be renaming\n",
    "the transformed variable with a new variable name, whilst the original\n",
    "variable has already been operated on '''"
   ]
  },
  {
   "cell_type": "code",
   "execution_count": null,
   "metadata": {},
   "outputs": [],
   "source": []
  }
 ],
 "metadata": {
  "kernelspec": {
   "display_name": "Python 3",
   "language": "python",
   "name": "python3"
  },
  "language_info": {
   "codemirror_mode": {
    "name": "ipython",
    "version": 3
   },
   "file_extension": ".py",
   "mimetype": "text/x-python",
   "name": "python",
   "nbconvert_exporter": "python",
   "pygments_lexer": "ipython3",
   "version": "3.9.6"
  }
 },
 "nbformat": 4,
 "nbformat_minor": 2
}
