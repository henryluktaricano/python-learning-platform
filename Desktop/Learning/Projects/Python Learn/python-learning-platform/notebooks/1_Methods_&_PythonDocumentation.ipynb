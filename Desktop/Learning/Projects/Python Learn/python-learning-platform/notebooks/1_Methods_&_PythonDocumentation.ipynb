{
 "cells": [
  {
   "cell_type": "markdown",
   "metadata": {},
   "source": [
    "# Methods and Functions\n",
    "\n",
    "    Methods: these are just functions built-in to objects. [e.g: .append(), .pop() ]\n",
    "    These can be explored and navigated using documentation."
   ]
  },
  {
   "cell_type": "markdown",
   "metadata": {},
   "source": [
    "    In Jupyter Notebook, if configured, typically hitting . will show list of built in functions. \n",
    "\n",
    "    Alternatively, with cmd + , access settings in VsCode and\n",
    "    Editor > Paramter Hints: On\n",
    "    Editor > Inlay Hints:  OffUnlessPressed using ctl+opt+space to see documentation\n",
    "    Editor > Hover: Off to not make it constant ( I think )"
   ]
  },
  {
   "cell_type": "code",
   "execution_count": null,
   "metadata": {},
   "outputs": [
    {
     "data": {
      "text/plain": [
       "0"
      ]
     },
     "execution_count": 30,
     "metadata": {},
     "output_type": "execute_result"
    }
   ],
   "source": [
    "mystr = 'hello'\n",
    "\n",
    "\n",
    "mystr.rindex('h') # press ctr + opt + space to see docs when typing dot ."
   ]
  },
  {
   "cell_type": "markdown",
   "metadata": {},
   "source": [
    "     If youre not using Jupyter or anything else\n",
    "     you can try the help() function"
   ]
  },
  {
   "cell_type": "code",
   "execution_count": null,
   "metadata": {},
   "outputs": [
    {
     "name": "stdout",
     "output_type": "stream",
     "text": [
      "Help on built-in function insert:\n",
      "\n",
      "insert(index, object, /) method of builtins.list instance\n",
      "    Insert object before index.\n",
      "\n",
      "Help on built-in function expandtabs:\n",
      "\n",
      "expandtabs(tabsize=8) method of builtins.str instance\n",
      "    Return a copy where all tab characters are expanded using spaces.\n",
      "\n",
      "    If tabsize is not given, a tab size of 8 characters is assumed.\n",
      "\n"
     ]
    }
   ],
   "source": [
    "mylist = []\n",
    "help(mylist.insert)\n",
    "help(mystr.expandtabs)\n"
   ]
  },
  {
   "cell_type": "markdown",
   "metadata": {},
   "source": [
    "    Or you can just actually view it on docs.python.org"
   ]
  },
  {
   "cell_type": "markdown",
   "metadata": {},
   "source": []
  }
 ],
 "metadata": {
  "kernelspec": {
   "display_name": "base",
   "language": "python",
   "name": "python3"
  },
  "language_info": {
   "codemirror_mode": {
    "name": "ipython",
    "version": 3
   },
   "file_extension": ".py",
   "mimetype": "text/x-python",
   "name": "python",
   "nbconvert_exporter": "python",
   "pygments_lexer": "ipython3",
   "version": "3.12.7"
  }
 },
 "nbformat": 4,
 "nbformat_minor": 2
}
