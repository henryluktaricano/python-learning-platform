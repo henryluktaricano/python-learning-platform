{
 "cells": [
  {
   "cell_type": "markdown",
   "metadata": {},
   "source": [
    "# To open files located elsewhere: pass the entire file path\n",
    "\n",
    "    myfile = open(\"/Users/Henry/Desktop/Python/My Notes/Chapter1/myfile.txt)\n",
    "    \n",
    "    pwd can be used in the terminal to \"print working directory\"\n",
    "    cd to change directory, or cd .. to go back one\n",
    "    ls to list contents.\n",
    "\n",
    "    mode='r' is read only\n",
    "    mode=' w ' is write only (will overwrite files or create new!)\n",
    "    mode='a' is append only (will add on to files)\n",
    "    mode=' r+ ' is reading and writing (The file must already exist, and writes the content depending on cursor point)\n",
    "    mode= ' w+ ' is writing and reading (Overwrites existing files or creates a new file — and then allows you to .read()!)\n"
   ]
  },
  {
   "cell_type": "code",
   "execution_count": 24,
   "metadata": {},
   "outputs": [
    {
     "name": "stdout",
     "output_type": "stream",
     "text": [
      "Hello there World!\n",
      "This is the second line\n",
      "\n",
      "blablablablabla asdaefrgekek\n",
      "fnerfjne\n",
      "\n",
      "\n",
      "\n",
      "['blablablablabla asdaefrgekek\\n', 'fnerfjne\\n', '\\n', '\\n']\n"
     ]
    }
   ],
   "source": [
    "### Using this method discard the need to close files — does it automatically\n",
    "\n",
    "# my_new_file = open('myfile.txt')\n",
    "\n",
    "with open('myfile.txt') as my_new_file:\n",
    "    contents = my_new_file.read()\n",
    "    \n",
    "print(contents)\n",
    "\n",
    "\n",
    "\n",
    "with open('newfile.txt', 'w+') as newfile:\n",
    "    newfile.write('blablablablabla asdaefrgekek\\nfnerfjne\\n\\n\\n')\n",
    "    newfile.seek(0)\n",
    "    content = newfile.read()\n",
    "    newfile.seek(0) # make sure to reset the cursor otherwise nothing will be read\n",
    "    raw = newfile.readlines()\n",
    "    \n",
    "print(content)\n",
    "print(raw)"
   ]
  },
  {
   "cell_type": "code",
   "execution_count": 25,
   "metadata": {},
   "outputs": [
    {
     "name": "stdout",
     "output_type": "stream",
     "text": [
      "\n",
      "blablablablabla asdaefrgekek\n",
      "fnerfjne\n",
      "\n",
      "\n",
      "\n"
     ]
    }
   ],
   "source": [
    "#since the file already exists now, we can open it with mode= 'r'\n",
    "\n",
    "with open('newfile.txt', mode='r') as readfile:\n",
    "    content = readfile.read()\n",
    "    print(f\"\\n{content}\")"
   ]
  },
  {
   "cell_type": "code",
   "execution_count": 26,
   "metadata": {},
   "outputs": [],
   "source": [
    "# now lets try overwriting the scribble\n",
    "\n",
    "with open('newfile.txt', mode='w') as overwrtfile:\n",
    "    content = overwrtfile.write(\"Hello, this is a more coherent text\\nI am now inserting a second line\\n\\n\")"
   ]
  },
  {
   "cell_type": "code",
   "execution_count": 27,
   "metadata": {},
   "outputs": [
    {
     "name": "stdout",
     "output_type": "stream",
     "text": [
      "Hello, this is a more coherent text\n",
      "I am now inserting a second line\n",
      "\n",
      "\n",
      "Hello, this is a more coherent text\n",
      "I am now inserting a second line\n",
      "\n",
      "\u0000\u0000\t Now I am adding more text\n"
     ]
    }
   ],
   "source": [
    "# the old text should now be overwrite but we cant read it\n",
    "# to read it lets open again\n",
    "\n",
    "with open('newfile.txt', mode='r+') as read_write_file:\n",
    "    readfile = read_write_file.read()\n",
    "    print(readfile)\n",
    "    read_write_file.seek(len(readfile) + 2)\n",
    "    read_write_file.write(\"\\t Now I am adding more text\")\n",
    "    read_write_file.seek(0)\n",
    "    print(read_write_file.read())"
   ]
  },
  {
   "cell_type": "code",
   "execution_count": 28,
   "metadata": {},
   "outputs": [
    {
     "name": "stdout",
     "output_type": "stream",
     "text": [
      "Hello, this is a more coherent text\n",
      "I am now inserting a second line\n",
      "\n",
      "\u0000\u0000\t Now I am adding more text ... last bits of appendment\n"
     ]
    }
   ],
   "source": [
    "# finally lets try append mode\n",
    "\n",
    "with open('newfile.txt', mode = 'a') as f:\n",
    "    f.write(' ... last bits of appendment')\n",
    "with open('newfile.txt', mode= 'r') as r:\n",
    "    content = r.read()\n",
    "    print(content)"
   ]
  },
  {
   "cell_type": "code",
   "execution_count": null,
   "metadata": {},
   "outputs": [],
   "source": []
  }
 ],
 "metadata": {
  "kernelspec": {
   "display_name": "base",
   "language": "python",
   "name": "python3"
  },
  "language_info": {
   "codemirror_mode": {
    "name": "ipython",
    "version": 3
   },
   "file_extension": ".py",
   "mimetype": "text/x-python",
   "name": "python",
   "nbconvert_exporter": "python",
   "pygments_lexer": "ipython3",
   "version": "3.12.7"
  }
 },
 "nbformat": 4,
 "nbformat_minor": 2
}
