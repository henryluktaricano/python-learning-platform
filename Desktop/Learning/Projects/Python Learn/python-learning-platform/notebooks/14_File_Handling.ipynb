{
 "cells": [
  {
   "cell_type": "markdown",
   "metadata": {},
   "source": [
    "# Performing simple I/O with basic .txt files\n",
    "\n",
    "To process r,w,x any file it must be stored in the same directory as the .py file\n",
    "\n",
    "    ------ > open('myfile', mode = 'permission') \n",
    "\n",
    "         myfile.write(\"ContentContentContent...\\n\")\n",
    "         myfile.write(\"NewLineThisIsANewLine...\")\n",
    "         myfile.close() # to save changes\n",
    "         \n",
    "         \n",
    "    -------> myfile.read() for making the cursor read the file, applying formatting element characters without the raw printing of them\n",
    "    -------> myfile.seek(0) resets the cursor to start, for subsequent reading\n",
    "    -------> myfile.readlines() returns a list of each raw individual line (marked by line-breaks)\n",
    "         \n",
    "If the file being opened is not in the same Directory, the .txt path should be inserted inside the open()"
   ]
  },
  {
   "cell_type": "code",
   "execution_count": 1,
   "metadata": {},
   "outputs": [],
   "source": [
    "### Opens Text Editor with write permission, and writes and saves the file\n",
    "myfile = open('myfile.txt', mode = 'w')\n",
    "\n",
    "myfile.write(\"Hello there World!\\nThis is the second line\\n\")\n",
    "\n",
    "myfile.close()\n"
   ]
  },
  {
   "cell_type": "code",
   "execution_count": 4,
   "metadata": {},
   "outputs": [
    {
     "name": "stdout",
     "output_type": "stream",
     "text": [
      "Hello there World!\n",
      "This is the second line\n",
      "\n"
     ]
    }
   ],
   "source": [
    "### Opening Exisitng Files\n",
    "\n",
    "myfile = open('myfile.txt')\n",
    "\n",
    "print(myfile.read())\n"
   ]
  },
  {
   "cell_type": "code",
   "execution_count": 5,
   "metadata": {},
   "outputs": [
    {
     "name": "stdout",
     "output_type": "stream",
     "text": [
      "\n"
     ]
    }
   ],
   "source": [
    "### try to read again and it will come up empty\n",
    "\n",
    "print(myfile.read())"
   ]
  },
  {
   "cell_type": "code",
   "execution_count": 6,
   "metadata": {},
   "outputs": [
    {
     "name": "stdout",
     "output_type": "stream",
     "text": [
      "Hello there World!\n",
      "This is the second line\n",
      "\n",
      "['Hello there World!\\n', 'This is the second line\\n']\n"
     ]
    }
   ],
   "source": [
    "### This is because the cursor was not reset to the beginning. The file must be closed&reopened or cursor reset.\n",
    "\n",
    "myfile.seek(0)\n",
    "contents = myfile.read()\n",
    "\n",
    "print(contents)\n",
    "\n",
    "myfile.seek(0)\n",
    "contents = myfile.readlines()\n",
    "print(contents)"
   ]
  },
  {
   "cell_type": "code",
   "execution_count": 7,
   "metadata": {},
   "outputs": [],
   "source": [
    "### Dont Forget to close the file, otherwise the computer will still be using it\n",
    "\n",
    "myfile.close()"
   ]
  }
 ],
 "metadata": {
  "kernelspec": {
   "display_name": "base",
   "language": "python",
   "name": "python3"
  },
  "language_info": {
   "codemirror_mode": {
    "name": "ipython",
    "version": 3
   },
   "file_extension": ".py",
   "mimetype": "text/x-python",
   "name": "python",
   "nbconvert_exporter": "python",
   "pygments_lexer": "ipython3",
   "version": "3.12.7"
  }
 },
 "nbformat": 4,
 "nbformat_minor": 2
}
