{
 "cells": [
  {
   "cell_type": "markdown",
   "id": "49f7b424-3f34-4795-b92c-6260c783cf86",
   "metadata": {},
   "source": [
    "# Variable Assignments\n",
    "\n",
    "Variables can be used to represent the object value, instead of having to directly write\n",
    "the object value in line. This way data types can be operated using reference. \n",
    "\n",
    "Names can not start with a number.\n",
    "There can be no spaces.\n",
    "Cant use any of these symbols ---> :'\",<>/?|\\()!@\\#$\\%^\\&*~-+ \n",
    "Best practice PEP8 considers variable names are loewrcase\n",
    "Avoid using words that have special object meaning such as \"list\", \"str\" etc."
   ]
  },
  {
   "cell_type": "code",
   "execution_count": 1,
   "id": "5bc4f8c2-7c14-4c0e-81c2-10bb6a49b001",
   "metadata": {},
   "outputs": [
    {
     "name": "stdout",
     "output_type": "stream",
     "text": [
      "Still Works\n"
     ]
    }
   ],
   "source": [
    " \n",
    "Bad_Practice = \"Still Works\"\n",
    "print(Bad_Practice)"
   ]
  },
  {
   "cell_type": "markdown",
   "id": "1a55a30d-a02f-43bd-a8a3-c417be9ef3af",
   "metadata": {},
   "source": [
    "# Python uses Dynamic Typing\n",
    "\n",
    "You can re-assign variables to different data values or data types.\n",
    "This makes Python very flexible, readable, and faster to develop,\n",
    "but also less reliable, causing bugs ...\n",
    "\n",
    "e.g  my_dogs = 2\n",
    "     my_dogs = [\"Scooby\", \"Lucas\"] #run again in the same programme and python will just update the value.  "
   ]
  },
  {
   "cell_type": "code",
   "execution_count": 2,
   "id": "4abbacdd-7e41-446d-b2ab-fee40f372f2a",
   "metadata": {},
   "outputs": [],
   "source": [
    "my_dogs = 2\n",
    "my_dogs = [\"Scooby\", \"Lucas\"] "
   ]
  },
  {
   "cell_type": "markdown",
   "id": "a6a05169-49f8-44d7-8125-c25a77a725ee",
   "metadata": {},
   "source": [
    "# Checking Object Type of variable"
   ]
  },
  {
   "cell_type": "code",
   "execution_count": 4,
   "id": "1d42648a-20cd-4694-8019-0803e93a55fe",
   "metadata": {},
   "outputs": [
    {
     "data": {
      "text/plain": [
       "float"
      ]
     },
     "execution_count": 4,
     "metadata": {},
     "output_type": "execute_result"
    }
   ],
   "source": [
    "a = 30.1\n",
    "\n",
    "type(a)"
   ]
  },
  {
   "cell_type": "code",
   "execution_count": null,
   "id": "e52d187f-6935-4388-9308-d5df85e67130",
   "metadata": {},
   "outputs": [],
   "source": []
  }
 ],
 "metadata": {
  "kernelspec": {
   "display_name": "Python 3 (ipykernel)",
   "language": "python",
   "name": "python3"
  },
  "language_info": {
   "codemirror_mode": {
    "name": "ipython",
    "version": 3
   },
   "file_extension": ".py",
   "mimetype": "text/x-python",
   "name": "python",
   "nbconvert_exporter": "python",
   "pygments_lexer": "ipython3",
   "version": "3.12.7"
  }
 },
 "nbformat": 4,
 "nbformat_minor": 5
}
