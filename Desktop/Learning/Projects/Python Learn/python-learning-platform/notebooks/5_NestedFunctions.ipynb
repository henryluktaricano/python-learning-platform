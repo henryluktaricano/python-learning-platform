{
 "cells": [
  {
   "cell_type": "markdown",
   "metadata": {},
   "source": [
    "# Interaction between Functions. "
   ]
  },
  {
   "cell_type": "markdown",
   "metadata": {},
   "source": [
    "        The following imported function runs in-line and stores no result"
   ]
  },
  {
   "cell_type": "code",
   "execution_count": null,
   "metadata": {},
   "outputs": [],
   "source": [
    "from random import shuffle\n",
    "example = [1,2,3,4,5,6,7]\n",
    "\n",
    "result = shuffle(example)\n",
    "print(type(result))\n",
    "\n",
    "example"
   ]
  },
  {
   "cell_type": "markdown",
   "metadata": {},
   "source": [
    "        To make it actually return something ..."
   ]
  },
  {
   "cell_type": "code",
   "execution_count": null,
   "metadata": {},
   "outputs": [],
   "source": [
    "def shuffle_list(mylist = example):\n",
    "    shuffle(mylist)\n",
    "    return mylist\n",
    "\n",
    "\n",
    "\n",
    "result = shuffle_list()\n",
    "print(type(result))\n",
    "\n",
    "result"
   ]
  },
  {
   "cell_type": "markdown",
   "metadata": {},
   "source": [
    "        let's try building another game using the function we built\n"
   ]
  },
  {
   "cell_type": "code",
   "execution_count": null,
   "metadata": {},
   "outputs": [],
   "source": [
    "import time # to add a little delay between prints for UX enhancement\n",
    "from random import shuffle\n",
    "\n",
    "### Shuffler\n",
    "\n",
    "def shuffle_list(somelist):\n",
    "    shuffle(somelist)\n",
    "    return somelist\n",
    "\n",
    "### Function to nest later on — checks where the ball is for answer. \n",
    "\n",
    "def answer_checker(shuffled):\n",
    "        answer = [] # We could just return ball index without a list but oh well.\n",
    "        ballindex = 0\n",
    "        for cup in shuffled:\n",
    "            if cup != 'O':\n",
    "                ballindex += 1\n",
    "            elif cup == 'O':\n",
    "                answer.append(ballindex) # Could just return ball index here.... (redundant list)\n",
    "                return answer, ballindex # We fixed a previous bug by placing return (break once the ball is found)\n",
    "        # Previously once a ball was found, the rest of the cups were being iterated — appending +=1 for no ball\n",
    "\n",
    "\n",
    "\n",
    "######## The game guess_ball() \n",
    "\n",
    "def guess_ball():\n",
    "\n",
    "    cups_and_ball = ['','','O']\n",
    "    shuffled = shuffle_list(cups_and_ball)\n",
    "    \n",
    "    #############   Initialises the game\n",
    "\n",
    "    guess = int(input(\"Guess where the ball is: 0, 1, or 2 ?\\t\")) \n",
    "\n",
    "    while guess not in [0,1,2]:\n",
    "          guess = int(input(\"Guess out of bound. Choose 0, 1, or 2 ?\\t\")) \n",
    "\n",
    "    while guess in [0,1,2]:\n",
    "\n",
    "        shuffled = shuffle_list(cups_and_ball)\n",
    "        answer, b = answer_checker(shuffled)\n",
    "\n",
    "        if guess in answer:\n",
    "            print(f'Well done. You guessed it hotshot, the ball is in index {b}.') # b == answer[0]\n",
    "            time.sleep(1)\n",
    "            print(shuffled)\n",
    "            time.sleep(1)\n",
    "            print('Goodbye')\n",
    "            break\n",
    "        elif guess not in answer:\n",
    "            print('Hahaha. Wrong!')\n",
    "            time.sleep(1)\n",
    "            print(f'You said index {guess}, the ball is in: {answer[0]} \\n')\n",
    "            time.sleep(10)\n",
    "            print(shuffled)\n",
    "            time.sleep(1)\n",
    "            print('\\nReshuffling...\\n\\n\\n ')\n",
    "            time.sleep(1)\n",
    "            guess = int(input(\"Try Again Dipshit. Choose 0, 1, or 2.\\t\"))\n",
    "\n",
    "    \n",
    "\n",
    "    \n",
    "\n",
    "    return None"
   ]
  },
  {
   "cell_type": "code",
   "execution_count": 10,
   "metadata": {},
   "outputs": [
    {
     "name": "stdout",
     "output_type": "stream",
     "text": [
      "Hahaha. Wrong!\n",
      "You said index 0, the ball is in: 1 \n",
      "\n",
      "['', 'O', '']\n",
      "\n",
      "Reshuffling...\n",
      "\n",
      "\n",
      " \n",
      "Hahaha. Wrong!\n",
      "You said index 2, the ball is in: 0 \n",
      "\n",
      "['O', '', '']\n",
      "\n",
      "Reshuffling...\n",
      "\n",
      "\n",
      " \n",
      "Hahaha. Wrong!\n",
      "You said index 1, the ball is in: 0 \n",
      "\n",
      "['O', '', '']\n",
      "\n",
      "Reshuffling...\n",
      "\n",
      "\n",
      " \n",
      "Hahaha. Wrong!\n",
      "You said index 0, the ball is in: 1 \n",
      "\n",
      "['', 'O', '']\n",
      "\n",
      "Reshuffling...\n",
      "\n",
      "\n",
      " \n",
      "Hahaha. Wrong!\n",
      "You said index 0, the ball is in: 2 \n",
      "\n",
      "['', '', 'O']\n",
      "\n",
      "Reshuffling...\n",
      "\n",
      "\n",
      " \n",
      "Hahaha. Wrong!\n",
      "You said index 1, the ball is in: 0 \n",
      "\n",
      "['O', '', '']\n",
      "\n",
      "Reshuffling...\n",
      "\n",
      "\n",
      " \n",
      "Hahaha. Wrong!\n",
      "You said index 1, the ball is in: 2 \n",
      "\n",
      "['', '', 'O']\n",
      "\n",
      "Reshuffling...\n",
      "\n",
      "\n",
      " \n",
      "Well done. You guessed it hotshot, the ball is in index 1.\n",
      "['', 'O', '']\n",
      "Goodbye\n"
     ]
    }
   ],
   "source": [
    "guess_ball()\n"
   ]
  },
  {
   "cell_type": "code",
   "execution_count": null,
   "metadata": {},
   "outputs": [],
   "source": []
  }
 ],
 "metadata": {
  "kernelspec": {
   "display_name": "base",
   "language": "python",
   "name": "python3"
  },
  "language_info": {
   "codemirror_mode": {
    "name": "ipython",
    "version": 3
   },
   "file_extension": ".py",
   "mimetype": "text/x-python",
   "name": "python",
   "nbconvert_exporter": "python",
   "pygments_lexer": "ipython3",
   "version": "3.12.7"
  }
 },
 "nbformat": 4,
 "nbformat_minor": 2
}
