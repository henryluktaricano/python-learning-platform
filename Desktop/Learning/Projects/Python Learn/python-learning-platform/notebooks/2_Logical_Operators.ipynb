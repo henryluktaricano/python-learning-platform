{
 "cells": [
  {
   "cell_type": "markdown",
   "metadata": {},
   "source": [
    "# We can use logical Operators to combine comparisons or conditions\n",
    "\n",
    "\n",
    "------> and (both conditions must be true)\n",
    "\n",
    "\n",
    "------> or (at least one condition must be true)\n",
    "\n",
    "\n",
    "------> not()     (returns the opposite boolean — it inverts a boolean)\n",
    "\n"
   ]
  },
  {
   "cell_type": "code",
   "execution_count": 1,
   "metadata": {},
   "outputs": [
    {
     "name": "stdout",
     "output_type": "stream",
     "text": [
      "True\n",
      "True\n",
      "True\n",
      "True\n",
      "True\n",
      "False\n"
     ]
    }
   ],
   "source": [
    "\n",
    "print(1 < 2 < 3)\n",
    "\n",
    "# or use a logical operator\n",
    "\n",
    "\n",
    "print(1 < 2 and 2 < 3)\n",
    "\n",
    "\n",
    "print( 'h' == 'h' and 2 == 2 )\n",
    "\n",
    "\n",
    "print( 1 == 100 or 'a' == 'a')\n",
    "\n",
    "\n",
    "print(not 400 == 500) # This is False, but not gives True\n",
    "\n",
    "print(not('a' == 'a'))"
   ]
  },
  {
   "cell_type": "markdown",
   "metadata": {},
   "source": []
  }
 ],
 "metadata": {
  "kernelspec": {
   "display_name": "Python 3",
   "language": "python",
   "name": "python3"
  },
  "language_info": {
   "codemirror_mode": {
    "name": "ipython",
    "version": 3
   },
   "file_extension": ".py",
   "mimetype": "text/x-python",
   "name": "python",
   "nbconvert_exporter": "python",
   "pygments_lexer": "ipython3",
   "version": "3.9.6"
  }
 },
 "nbformat": 4,
 "nbformat_minor": 2
}
