{
 "cells": [
  {
   "cell_type": "markdown",
   "metadata": {},
   "source": [
    "# These statements control flow of logic\n",
    "\n",
    "They result in indentations (unique from python)\n",
    "\n",
    "\n",
    "    ------  if some_condition_True:\n",
    "                execute some code\n",
    "              \n",
    "            elif some_other_condition_True:\n",
    "                do something else\n",
    "              \n",
    "            else:                   # i.e if condition is false:\n",
    "                do something else"
   ]
  },
  {
   "cell_type": "code",
   "execution_count": 1,
   "metadata": {},
   "outputs": [
    {
     "name": "stdout",
     "output_type": "stream",
     "text": [
      "its true\n",
      "3  >  2\n",
      "Not hungry\n",
      "Feed Me\n"
     ]
    }
   ],
   "source": [
    "\n",
    "#######################################\n",
    "\n",
    "if True:\n",
    "    print('its true')\n",
    "    \n",
    "if 3 > 2:\n",
    "    print('3  >  2')\n",
    "    \n",
    "    \n",
    "#######################################\n",
    "\n",
    "hungry = False\n",
    "if hungry:\n",
    "    print('Feed Me')\n",
    "else:\n",
    "    print('Not hungry')\n",
    "    \n",
    "    \n",
    "    \n",
    "hungry = True\n",
    "if hungry:\n",
    "    print('Feed Me')\n",
    "else:\n",
    "    print('Not hungry')\n",
    "    \n",
    "#######################################"
   ]
  }
 ],
 "metadata": {
  "kernelspec": {
   "display_name": "Python 3",
   "language": "python",
   "name": "python3"
  },
  "language_info": {
   "codemirror_mode": {
    "name": "ipython",
    "version": 3
   },
   "file_extension": ".py",
   "mimetype": "text/x-python",
   "name": "python",
   "nbconvert_exporter": "python",
   "pygments_lexer": "ipython3",
   "version": "3.9.6"
  }
 },
 "nbformat": 4,
 "nbformat_minor": 2
}
