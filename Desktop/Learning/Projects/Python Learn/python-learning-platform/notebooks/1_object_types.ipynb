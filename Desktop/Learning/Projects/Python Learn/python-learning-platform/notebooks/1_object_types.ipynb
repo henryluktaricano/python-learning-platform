{
 "cells": [
  {
   "cell_type": "markdown",
   "id": "7e99878d-cd4f-456d-9914-492750a9f19c",
   "metadata": {},
   "source": [
    "# TYPES OF DATA\n",
    "\n",
    "int ----> 3, 300, 200\n",
    "          whole numbers\n",
    "        \n",
    "float --> 2.3, 4.6, 100.0\n",
    "          numbers with a decimal\n",
    "\n",
    "complex-> 2 + 3j,5 -7j\n",
    "          complex numbers indicated by imaginary j\n",
    "         \n",
    "str --->  \"hello\", 'sammy', '2000', \"†¥√ƒ\"\n",
    "          ordered sequence of characters enclosed in quotes\n",
    "        \n",
    "list ---> [10, \"hello\", 200.3]\n",
    "          ordered & mutable sequence of data objects\n",
    "\n",
    "tup --->  (10, \"hello\", 200.3)\n",
    "          ordered & immutable sequence of data objects\n",
    "\n",
    "range ->  r = range(0,10,2)\n",
    "\n",
    "dict ---> {\"key1\":\"value\",\"key2\":100,\"key3\":[1,2,\"three\"]}\n",
    "          unordered & mutable key:value pairs\n",
    "\n",
    "sets ---> {\"a\",\"b\",\"c\"}\n",
    "          unordered mutable collection of unique objects\n",
    "          \n",
    "frozenset --> frozenset(['apple','banana'])\n",
    "              unordered immutable collection of unique objects\n",
    "\n",
    "bool ---> True, False\n",
    "          Logical Binary Value\n",
    "          \n",
    "None ---> None\n",
    "          Represents nothing\n",
    "\n",
    "Other data types: bytes, bytearray, memoryview, and more....\n",
    "          \n"
   ]
  },
  {
   "cell_type": "markdown",
   "id": "cf4b2974-9b19-498c-b962-108c037a53c9",
   "metadata": {},
   "source": [
    "# Numeric Types"
   ]
  },
  {
   "cell_type": "code",
   "execution_count": 3,
   "id": "ec12cbc1-dd01-4f8d-b078-3349e2f435c1",
   "metadata": {},
   "outputs": [
    {
     "name": "stdout",
     "output_type": "stream",
     "text": [
      "<class 'int'>\n",
      "<class 'float'>\n",
      "<class 'complex'>\n"
     ]
    }
   ],
   "source": [
    "myinteger = 1\n",
    "print(type(myinteger))\n",
    "\n",
    "myfloat = 3.0340\n",
    "print(type(myfloat))\n",
    "\n",
    "mycomplex = 3 + 2j\n",
    "print(type(mycomplex))\n"
   ]
  },
  {
   "cell_type": "markdown",
   "id": "cbb94e2a-926c-4909-9224-1e320ff7b100",
   "metadata": {},
   "source": [
    "# Sequence Types"
   ]
  },
  {
   "cell_type": "code",
   "execution_count": 5,
   "id": "69660433-74f4-4e8e-8455-b0a5b960f2be",
   "metadata": {},
   "outputs": [
    {
     "name": "stdout",
     "output_type": "stream",
     "text": [
      "<class 'str'>\n",
      "<class 'list'>\n",
      "<class 'tuple'>\n",
      "<class 'range'>\n"
     ]
    }
   ],
   "source": [
    "mystring = \"hello\"\n",
    "print(type(mystring))\n",
    "\n",
    "mylist = [\"integer\", 3.0, [\"embbeddedstring\"]]\n",
    "print(type(mylist))\n",
    "\n",
    "mytuple = (1, 2, 3.0, \"four\")\n",
    "print(type(mytuple))\n",
    "\n",
    "myrange = range(0,10,2)\n",
    "print(type(myrange))\n"
   ]
  },
  {
   "cell_type": "markdown",
   "id": "b8482521-7e0c-45ec-8722-8e1f9dec07ae",
   "metadata": {},
   "source": [
    "# Mapping Type"
   ]
  },
  {
   "cell_type": "code",
   "execution_count": 6,
   "id": "187c314d-9197-47ee-9b1e-3a3be37b91ff",
   "metadata": {},
   "outputs": [
    {
     "name": "stdout",
     "output_type": "stream",
     "text": [
      "<class 'dict'>\n"
     ]
    }
   ],
   "source": [
    "mydictionary = {\"key1\": myinteger, \"key2\": mystring}\n",
    "print(type(mydictionary))"
   ]
  },
  {
   "cell_type": "markdown",
   "id": "d61a7a65-33cc-41b6-aca1-abd05f0926db",
   "metadata": {},
   "source": [
    "# Set Types"
   ]
  },
  {
   "cell_type": "code",
   "execution_count": 7,
   "id": "f5123145-d466-4c68-b714-5e3bada0c9b3",
   "metadata": {},
   "outputs": [
    {
     "name": "stdout",
     "output_type": "stream",
     "text": [
      "<class 'set'>\n",
      "<class 'frozenset'>\n"
     ]
    }
   ],
   "source": [
    "myset = {\"a\", \"b\", \"c\", 4, 5.0, 6+0j}\n",
    "print(type(myset))\n",
    "\n",
    "myfrozenset = frozenset([\"apple\",'banana'])\n",
    "print(type(myfrozenset))\n"
   ]
  },
  {
   "cell_type": "markdown",
   "id": "75fac2ff-f29a-47e0-9165-64ce2226406d",
   "metadata": {},
   "source": [
    "# Boolean Type"
   ]
  },
  {
   "cell_type": "code",
   "execution_count": 8,
   "id": "ebb014ff-137b-4139-82a4-950064052f06",
   "metadata": {},
   "outputs": [],
   "source": [
    "isthis_boolean = True\n",
    "isthis_string = False"
   ]
  },
  {
   "cell_type": "markdown",
   "id": "7ac22a89-920b-478a-a0bb-b7ea35a1fb15",
   "metadata": {},
   "source": [
    "# Binary Types"
   ]
  },
  {
   "cell_type": "code",
   "execution_count": 11,
   "id": "3f5e0d28-4e3a-4214-9e17-c9099eb54ffd",
   "metadata": {},
   "outputs": [
    {
     "name": "stdout",
     "output_type": "stream",
     "text": [
      "<class 'bytes'>\n",
      "<class 'bytearray'>\n",
      "<class 'memoryview'>\n"
     ]
    }
   ],
   "source": [
    "mybytes = b\"hello\"\n",
    "print(type(mybytes))\n",
    "\n",
    "mybytearray = bytearray([1,2,3])\n",
    "print(type(mybytearray))\n",
    "\n",
    "mymemoryview = memoryview(b\"hello\")\n",
    "print(type(mymemoryview))\n"
   ]
  },
  {
   "cell_type": "markdown",
   "id": "bf13c6f8-f00d-4230-bbbd-379cb94c9838",
   "metadata": {},
   "source": [
    "# None Type"
   ]
  },
  {
   "cell_type": "code",
   "execution_count": 12,
   "id": "11277ead-0dc2-410a-be15-660466cfcbf4",
   "metadata": {},
   "outputs": [
    {
     "name": "stdout",
     "output_type": "stream",
     "text": [
      "<class 'NoneType'>\n"
     ]
    }
   ],
   "source": [
    "\n",
    "mynothing = None\n",
    "print(type(mynothing))"
   ]
  },
  {
   "cell_type": "code",
   "execution_count": null,
   "id": "f11237a7-a4eb-450a-9e85-47ce15b16c8d",
   "metadata": {},
   "outputs": [],
   "source": []
  }
 ],
 "metadata": {
  "kernelspec": {
   "display_name": "Python 3 (ipykernel)",
   "language": "python",
   "name": "python3"
  },
  "language_info": {
   "codemirror_mode": {
    "name": "ipython",
    "version": 3
   },
   "file_extension": ".py",
   "mimetype": "text/x-python",
   "name": "python",
   "nbconvert_exporter": "python",
   "pygments_lexer": "ipython3",
   "version": "3.12.7"
  }
 },
 "nbformat": 4,
 "nbformat_minor": 5
}
