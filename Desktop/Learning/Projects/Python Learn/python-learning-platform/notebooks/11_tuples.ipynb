{
 "cells": [
  {
   "cell_type": "markdown",
   "metadata": {},
   "source": [
    "Tuples are ORDERED and IMMUTABLE — similar to lists only that they cant be reassigned\n",
    "\n",
    "Tuples use parenthesis: (1,2,3)\n",
    "\n",
    "Tuples support indexing and slicing, but not re-assigning\n",
    "\n",
    "      t = (1, 2, 3)\n",
    "      t[0] = 'NEW'\n",
    "           \n",
    "           ERROR\n",
    "           Tuple object does not support item assignment\n",
    "\n",
    "      tuple.count(element) ----> returns how many times the element appears in the tuple\n",
    "      tuple.index(element) ----> returns the very first time the element appears (index)\n",
    "\n",
    "Useful when passing objects in the program and making sure that data doesnt get changed. (Data Integrity)\n"
   ]
  },
  {
   "cell_type": "code",
   "execution_count": 2,
   "metadata": {},
   "outputs": [
    {
     "name": "stdout",
     "output_type": "stream",
     "text": [
      "<class 'tuple'>\n",
      "3\n",
      "('one', 2)\n",
      "one\n",
      "2\n"
     ]
    }
   ],
   "source": [
    "mytuple = (1,2,3)\n",
    "print(type(mytuple))\n",
    "\n",
    "print(len(mytuple))\n",
    "\n",
    "\n",
    "t = ('one', 2)\n",
    "print(t)\n",
    "print(t[0])\n",
    "print(t[-1])"
   ]
  },
  {
   "cell_type": "code",
   "execution_count": 1,
   "metadata": {},
   "outputs": [
    {
     "name": "stdout",
     "output_type": "stream",
     "text": [
      "('a', 'a', 'b')\n",
      "2\n",
      "0\n"
     ]
    }
   ],
   "source": [
    "### .count and .index methods\n",
    "\n",
    "\n",
    "t = ('a', 'a', 'b')\n",
    "\n",
    "print(t)\n",
    "\n",
    "print(t.count('a'))\n",
    "\n",
    "print(t.index('a'))"
   ]
  },
  {
   "cell_type": "code",
   "execution_count": null,
   "metadata": {},
   "outputs": [],
   "source": []
  }
 ],
 "metadata": {
  "kernelspec": {
   "display_name": "base",
   "language": "python",
   "name": "python3"
  },
  "language_info": {
   "codemirror_mode": {
    "name": "ipython",
    "version": 3
   },
   "file_extension": ".py",
   "mimetype": "text/x-python",
   "name": "python",
   "nbconvert_exporter": "python",
   "pygments_lexer": "ipython3",
   "version": "3.12.7"
  }
 },
 "nbformat": 4,
 "nbformat_minor": 2
}
