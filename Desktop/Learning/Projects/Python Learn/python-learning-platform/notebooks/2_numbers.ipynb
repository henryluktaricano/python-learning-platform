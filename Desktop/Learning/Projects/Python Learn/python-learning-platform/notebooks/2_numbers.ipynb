{
 "cells": [
  {
   "cell_type": "markdown",
   "id": "2a1b77b6-2585-4221-b02e-c4b700e90fca",
   "metadata": {},
   "source": [
    "# Basic Arithmetic "
   ]
  },
  {
   "cell_type": "code",
   "execution_count": 4,
   "id": "7e631151-8cc4-4b99-8fa2-76b99e7728bd",
   "metadata": {},
   "outputs": [
    {
     "name": "stdout",
     "output_type": "stream",
     "text": [
      "2\n",
      "25059.25\n"
     ]
    }
   ],
   "source": [
    "arith = 1 + 1\n",
    "print(arith)\n",
    "\n",
    "arith2 = (((56 * 4)**2) - 57.5)/2\n",
    "print(arith2)"
   ]
  },
  {
   "cell_type": "markdown",
   "id": "1a785b6a-4bd0-40d9-af6d-371f3d6d3b52",
   "metadata": {},
   "source": [
    "# Modulo Operator\n",
    "\n",
    "This returns the remainder — Useful for checking if even or odd\n"
   ]
  },
  {
   "cell_type": "code",
   "execution_count": 6,
   "id": "deb6bc98-1a98-4d88-aa37-cdd90110ddea",
   "metadata": {},
   "outputs": [
    {
     "name": "stdout",
     "output_type": "stream",
     "text": [
      "The remainder is 1\n",
      "The remainder is 3\n",
      "0\n",
      "1\n"
     ]
    }
   ],
   "source": [
    "remainder = 501 % 5\n",
    "print(f\"The remainder is {remainder}\")\n",
    "\n",
    "remainder1 = 5491 % 7\n",
    "print(f\"The remainder is {remainder1}\")\n",
    "\n",
    "\n",
    "parity = 10%2 # since any even number can be divided by two with a remainder of 0\n",
    "print(parity)\n",
    "\n",
    "odd = 15%2\n",
    "print(odd)\n"
   ]
  },
  {
   "cell_type": "markdown",
   "id": "4f7c6f51-3c97-4d76-ba11-60ea4567396b",
   "metadata": {},
   "source": [
    "### Just a little function that classifies any integer. "
   ]
  },
  {
   "cell_type": "code",
   "execution_count": 10,
   "id": "22e5e76d-8116-4a0f-9ee2-65291893e690",
   "metadata": {},
   "outputs": [
    {
     "name": "stdin",
     "output_type": "stream",
     "text": [
      "Check number: 24234\n"
     ]
    },
    {
     "name": "stdout",
     "output_type": "stream",
     "text": [
      "<class 'int'>\n",
      "the number is even\n"
     ]
    }
   ],
   "source": [
    "def checker():\n",
    "    number = int(input(\"Check number:\"))\n",
    "    print(type(number))\n",
    "    check = number%2\n",
    "    if check == 0:\n",
    "        print(\"the number is even\")\n",
    "    else:\n",
    "        print(\"the number is odd\")\n",
    "    \n",
    "    return\n",
    "\n",
    "checker()\n"
   ]
  },
  {
   "cell_type": "code",
   "execution_count": null,
   "id": "322eb0b9-7748-4975-94d7-c7ef39940c99",
   "metadata": {},
   "outputs": [],
   "source": []
  },
  {
   "cell_type": "code",
   "execution_count": null,
   "id": "47c33944-237c-4534-a43b-f2e3f360595f",
   "metadata": {},
   "outputs": [],
   "source": []
  }
 ],
 "metadata": {
  "kernelspec": {
   "display_name": "Python 3 (ipykernel)",
   "language": "python",
   "name": "python3"
  },
  "language_info": {
   "codemirror_mode": {
    "name": "ipython",
    "version": 3
   },
   "file_extension": ".py",
   "mimetype": "text/x-python",
   "name": "python",
   "nbconvert_exporter": "python",
   "pygments_lexer": "ipython3",
   "version": "3.12.7"
  }
 },
 "nbformat": 4,
 "nbformat_minor": 5
}
