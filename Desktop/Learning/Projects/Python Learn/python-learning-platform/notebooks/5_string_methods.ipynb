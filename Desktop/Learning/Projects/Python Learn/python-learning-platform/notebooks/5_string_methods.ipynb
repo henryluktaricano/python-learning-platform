{
 "cells": [
  {
   "cell_type": "markdown",
   "metadata": {},
   "source": [
    "# String Properties and Methods\n",
    "\n",
    "\n",
    "## Immutability ----->\n",
    "  \n",
    "  As discussed, strings are ordered sequenes, but not re-assignable (immutable)\n",
    "  \n",
    "  e.g name = \"Marco\"\n",
    "      name[0] = \"P\"\n",
    "      \n",
    "      ERROR\n",
    "      'str' object does not support item assignment\n",
    "\n",
    "  instead concatenation can be used\n",
    "\n"
   ]
  },
  {
   "cell_type": "markdown",
   "metadata": {},
   "source": []
  },
  {
   "cell_type": "code",
   "execution_count": 1,
   "metadata": {},
   "outputs": [
    {
     "name": "stdout",
     "output_type": "stream",
     "text": [
      "Parco\n"
     ]
    }
   ],
   "source": [
    "name = \"Marco\"\n",
    "last_letters = name[1:]\n",
    "\n",
    "new_name = 'P' + last_letters\n",
    "\n",
    "print(new_name)"
   ]
  },
  {
   "cell_type": "markdown",
   "metadata": {},
   "source": [
    "# For every variable type, there are a bunch of attributes and methods available....\n",
    "\n",
    "* str.upper()\n",
    "* str.capitalize()\n",
    "* str.lower()\n",
    "* str.split() ----> returns list of characters splitted based on default space (or specification) "
   ]
  },
  {
   "cell_type": "code",
   "execution_count": 2,
   "metadata": {},
   "outputs": [
    {
     "name": "stdout",
     "output_type": "stream",
     "text": [
      "Hello world\n",
      "HELLO WORLD\n",
      "hello world\n",
      "['hello', 'world']\n",
      "['hell', ' w', 'rld']\n"
     ]
    }
   ],
   "source": [
    "x = 'hello world'\n",
    "\n",
    "\n",
    "x = x.capitalize()\n",
    "print(x)\n",
    "\n",
    "x = x.upper()\n",
    "print(x)\n",
    "\n",
    "x = x.lower()\n",
    "print(x)\n",
    "\n",
    "print(x.split())\n",
    "\n",
    "\n",
    "x = x.split('o')\n",
    "print(x)\n",
    "    \n"
   ]
  },
  {
   "cell_type": "code",
   "execution_count": null,
   "metadata": {},
   "outputs": [],
   "source": []
  }
 ],
 "metadata": {
  "kernelspec": {
   "display_name": "Python 3",
   "language": "python",
   "name": "python3"
  },
  "language_info": {
   "codemirror_mode": {
    "name": "ipython",
    "version": 3
   },
   "file_extension": ".py",
   "mimetype": "text/x-python",
   "name": "python",
   "nbconvert_exporter": "python",
   "pygments_lexer": "ipython3",
   "version": "3.9.6"
  }
 },
 "nbformat": 4,
 "nbformat_minor": 2
}
