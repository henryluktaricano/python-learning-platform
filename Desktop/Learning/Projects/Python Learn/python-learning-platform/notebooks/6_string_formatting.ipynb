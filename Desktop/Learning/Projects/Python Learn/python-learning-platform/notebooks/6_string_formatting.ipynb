{
 "cells": [
  {
   "cell_type": "markdown",
   "metadata": {},
   "source": [
    "# String Formatting\n",
    "\n",
    "Often you will wan to inject variables into your string for printing.\n",
    "\n",
    ".format() method\n",
    "f-strings (string literals) -- newer version"
   ]
  },
  {
   "cell_type": "code",
   "execution_count": 1,
   "metadata": {},
   "outputs": [
    {
     "name": "stdout",
     "output_type": "stream",
     "text": [
      "This is a string INSERTED\n",
      "This is my name: Henry\n",
      "The quick brown fox\n",
      "The quick brown fox\n"
     ]
    }
   ],
   "source": [
    "### .format() method examples ----> syntax: print(\"str_value {v}\".format(v = variable)\n",
    "\n",
    "print('This is a string {}'.format('INSERTED'))\n",
    "\n",
    "name = 'Henry'\n",
    "\n",
    "print('This is my name: {}'.format(name))\n",
    "\n",
    "print('The {2} {1} {0}'.format('fox','brown','quick'))\n",
    "\n",
    "print('The {q} {b} {f}'.format(f='fox',b='brown',q='quick'))"
   ]
  },
  {
   "cell_type": "code",
   "execution_count": 2,
   "metadata": {},
   "outputs": [
    {
     "name": "stdout",
     "output_type": "stream",
     "text": [
      "The result was 1.29\n",
      "The result was 1.29086\n",
      "The result was       1.29\n"
     ]
    }
   ],
   "source": [
    "### float formatting {value:width.precision f}\n",
    "\n",
    "result = 1003/777\n",
    "\n",
    "print(\"The result was {r:.2f}\".format(r = result))\n",
    "print(\"The result was {r:.5f}\".format(r = result))\n",
    "print(\"The result was {r:10.2f}\".format(r = result))\n"
   ]
  },
  {
   "cell_type": "markdown",
   "metadata": {},
   "source": []
  },
  {
   "cell_type": "code",
   "execution_count": 3,
   "metadata": {},
   "outputs": [
    {
     "name": "stdout",
     "output_type": "stream",
     "text": [
      "Hello my name is Henry\n",
      "The quick brown fox\n"
     ]
    }
   ],
   "source": [
    "### f-string method print(f \"str_value {}\")\n",
    "\n",
    "f='fox'\n",
    "b='brown'\n",
    "q='quick'\n",
    "\n",
    "print(f'Hello my name is {name}')\n",
    "print(f'The {q} {b} {f}')\n"
   ]
  },
  {
   "cell_type": "code",
   "execution_count": 4,
   "metadata": {},
   "outputs": [
    {
     "name": "stdout",
     "output_type": "stream",
     "text": [
      "The result was 1.29\n",
      "The result was 1.29\n"
     ]
    }
   ],
   "source": [
    "# f-string float formatting\n",
    "\n",
    "print(f\"The result was {result:{0}.{3}}\") #either {variable:{}.{}} — note the precision includes non-decimal\n",
    "print(f\"The result was {result:.2f}\") # or the same {variable:3.3f} can be used\n"
   ]
  },
  {
   "cell_type": "code",
   "execution_count": null,
   "metadata": {},
   "outputs": [],
   "source": []
  }
 ],
 "metadata": {
  "kernelspec": {
   "display_name": "Python 3",
   "language": "python",
   "name": "python3"
  },
  "language_info": {
   "codemirror_mode": {
    "name": "ipython",
    "version": 3
   },
   "file_extension": ".py",
   "mimetype": "text/x-python",
   "name": "python",
   "nbconvert_exporter": "python",
   "pygments_lexer": "ipython3",
   "version": "3.9.6"
  }
 },
 "nbformat": 4,
 "nbformat_minor": 2
}
