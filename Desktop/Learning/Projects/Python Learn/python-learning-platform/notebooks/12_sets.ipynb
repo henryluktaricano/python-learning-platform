{
 "cells": [
  {
   "cell_type": "markdown",
   "metadata": {},
   "source": [
    "## Sets are UNORDERED and MUTABLE collections of UNIQUE Elements\n",
    "\n",
    "Meaning that there cant be more than one representative of the same object\n",
    "\n",
    "  e.g. you cant have {'a', 'a', 'b', 'c'}\n",
    "  \n",
    "       correct is --> {'a', 'b', 'c'}\n",
    "       \n",
    "It has the curly brackets {} like a dictionary but NO Key-Value Pairings....\n",
    "\n",
    "They may look ordered or displayed that way but they are not actually stored with order memory. \n",
    "\n",
    "              myset = set()\n",
    "   or also    myset = {values}\n",
    "   \n",
    "   \n",
    "    set().add(values)\n",
    "      This methods adds a UNIQUE element to the set, such that it is non-repeated.\n",
    "\n",
    "      By default only unique elements are whaat constitute   a  set\n",
    "\n",
    "\n",
    "    Lists can be turned into lists: set(mylist)\n",
    "                           "
   ]
  },
  {
   "cell_type": "markdown",
   "metadata": {},
   "source": []
  },
  {
   "cell_type": "code",
   "execution_count": 5,
   "metadata": {},
   "outputs": [
    {
     "name": "stdout",
     "output_type": "stream",
     "text": [
      "set()\n",
      "{1}\n",
      "{1, 2}\n"
     ]
    }
   ],
   "source": [
    "myset = set()\n",
    "print(myset)\n",
    "\n",
    "myset.add(1)\n",
    "print(myset)\n",
    "\n",
    "myset.add(2)\n",
    "print(myset)"
   ]
  },
  {
   "cell_type": "code",
   "execution_count": 7,
   "metadata": {},
   "outputs": [
    {
     "name": "stdout",
     "output_type": "stream",
     "text": [
      "{1, 2, 3}\n"
     ]
    }
   ],
   "source": [
    "# try adding 2 a second time\n",
    "\n",
    "myset.add(2)\n",
    "print(myset) # still only {1,2}..... not {1,2,2}\n"
   ]
  },
  {
   "cell_type": "code",
   "execution_count": 8,
   "metadata": {},
   "outputs": [
    {
     "name": "stdout",
     "output_type": "stream",
     "text": [
      "{1, 2, 3, 4, 5, 6, 7, 8, 9}\n"
     ]
    }
   ],
   "source": [
    "### Lists can be converted into sets by casting it as a set\n",
    "\n",
    "\n",
    "\n",
    "mylist = [1,1,1,1,2,2,2,3,3,3,4,5,6,7,8,9]\n",
    "\n",
    "newset = set(mylist)\n",
    "print(newset) \n",
    "\n",
    "\n",
    "\n"
   ]
  },
  {
   "cell_type": "code",
   "execution_count": null,
   "metadata": {},
   "outputs": [],
   "source": []
  }
 ],
 "metadata": {
  "kernelspec": {
   "display_name": "base",
   "language": "python",
   "name": "python3"
  },
  "language_info": {
   "codemirror_mode": {
    "name": "ipython",
    "version": 3
   },
   "file_extension": ".py",
   "mimetype": "text/x-python",
   "name": "python",
   "nbconvert_exporter": "python",
   "pygments_lexer": "ipython3",
   "version": "3.12.7"
  }
 },
 "nbformat": 4,
 "nbformat_minor": 2
}
