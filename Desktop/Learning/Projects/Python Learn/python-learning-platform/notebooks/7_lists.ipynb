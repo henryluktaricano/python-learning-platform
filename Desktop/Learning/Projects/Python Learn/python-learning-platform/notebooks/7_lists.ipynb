{
 "cells": [
  {
   "cell_type": "markdown",
   "metadata": {},
   "source": [
    "\n",
    "### Lists are ORDERED AND MUTABLE sequences that can hold a variety of object types.\n",
    "\n",
    "They use [] brackets and commas to separate objects in the list.\n",
    "         \n",
    "         [1,2,3,4,5]\n",
    "\n",
    "Lists support indexing and slicing.\n",
    "Lists can be nested and also have a variety of useful methods that can be called off of them.\n",
    "\n",
    "-------> Mutability\n",
    "\n",
    "Unlike strings, lists can be reassigned...\n",
    "\n"
   ]
  },
  {
   "cell_type": "code",
   "execution_count": 1,
   "metadata": {},
   "outputs": [
    {
     "name": "stdout",
     "output_type": "stream",
     "text": [
      "3\n"
     ]
    }
   ],
   "source": [
    "my_list = [1,2,3]\n",
    "mylist = [\"STRING\", 100, 23.2]\n",
    "\n",
    "print(len(my_list))\n"
   ]
  },
  {
   "cell_type": "code",
   "execution_count": 2,
   "metadata": {},
   "outputs": [
    {
     "name": "stdout",
     "output_type": "stream",
     "text": [
      "STRING\n"
     ]
    }
   ],
   "source": [
    "# Lists support indexing\n",
    "print(mylist[0])\n"
   ]
  },
  {
   "cell_type": "code",
   "execution_count": 3,
   "metadata": {},
   "outputs": [
    {
     "name": "stdout",
     "output_type": "stream",
     "text": [
      "[100, 23.2]\n",
      "[1, 2, 3, 'four', 'five']\n"
     ]
    }
   ],
   "source": [
    "# Lists support slicing\n",
    "\n",
    "print(mylist[1:])\n",
    "\n",
    "anotherlist = ['four', 'five']\n",
    "\n",
    "newlist = my_list + anotherlist\n",
    "print(newlist)\n"
   ]
  },
  {
   "cell_type": "code",
   "execution_count": 4,
   "metadata": {},
   "outputs": [
    {
     "name": "stdout",
     "output_type": "stream",
     "text": [
      "['one', 2, 3, 'four', 'five']\n"
     ]
    }
   ],
   "source": [
    "# Mutability\n",
    "\n",
    "newlist[0] = 'one'\n",
    "print(newlist)\n"
   ]
  },
  {
   "cell_type": "code",
   "execution_count": null,
   "metadata": {},
   "outputs": [],
   "source": []
  }
 ],
 "metadata": {
  "kernelspec": {
   "display_name": "Python 3",
   "language": "python",
   "name": "python3"
  },
  "language_info": {
   "codemirror_mode": {
    "name": "ipython",
    "version": 3
   },
   "file_extension": ".py",
   "mimetype": "text/x-python",
   "name": "python",
   "nbconvert_exporter": "python",
   "pygments_lexer": "ipython3",
   "version": "3.9.6"
  }
 },
 "nbformat": 4,
 "nbformat_minor": 2
}
