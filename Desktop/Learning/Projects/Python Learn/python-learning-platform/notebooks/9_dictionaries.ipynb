{
 "cells": [
  {
   "cell_type": "markdown",
   "metadata": {},
   "source": [
    "# Dictionaries are unordered mappings for storing objects.\n",
    "\n",
    "    Dictionaries are also MUTABLE, meaning they can be re-assigned.\n",
    "    \n",
    "Dictionaries use a key-value pairing instead\n",
    "\n",
    "## This key-value pair allows users to quickly grab objects without needing to know an index location.\n",
    "\n",
    "    syntax:\n",
    "       dict_variable  = {'key1':str, 'key2':list, 'key3':bool}\n"
   ]
  },
  {
   "cell_type": "code",
   "execution_count": 2,
   "metadata": {},
   "outputs": [
    {
     "name": "stdout",
     "output_type": "stream",
     "text": [
      "2.99\n",
      "<class 'float'>\n",
      "0.79\n",
      "<class 'float'>\n"
     ]
    }
   ],
   "source": [
    "my_dict = {'apple':2.99, 'banana': 1.29, 'pineapple': 0.79}\n",
    "\n",
    "### The point is that now they can be index called with a string name.\n",
    "### Lists can only be index called with index location numbers. \n",
    "\n",
    "\n",
    "print(my_dict['apple'])\n",
    "print(type(my_dict['apple']))\n",
    "\n",
    "print(my_dict['pineapple'])\n",
    "print(type(my_dict['pineapple']))"
   ]
  },
  {
   "cell_type": "code",
   "execution_count": 3,
   "metadata": {},
   "outputs": [
    {
     "name": "stdout",
     "output_type": "stream",
     "text": [
      "{'k1': '123', 'k2': [1, 2, 3, 4, 5], 'k3': {'embeddeddict': 100.0}, 'k4': 123}\n",
      "123\n",
      "[1, 2, 3, 4, 5]\n",
      "<class 'list'>\n",
      "{'embeddeddict': 100.0}\n"
     ]
    }
   ],
   "source": [
    "d = {'k1':'123', 'k2': [1,2,3,4,5], 'k3':{'embeddeddict':100.0}, 'k4':123}\n",
    "print(d)\n",
    "print(d['k1'])\n",
    "print(d['k2'])\n",
    "print(type(d['k2']))\n",
    "print(d['k3'])"
   ]
  },
  {
   "cell_type": "code",
   "execution_count": 4,
   "metadata": {},
   "outputs": [
    {
     "name": "stdout",
     "output_type": "stream",
     "text": [
      "100.0\n",
      "1\n",
      "2\n",
      "123\n"
     ]
    }
   ],
   "source": [
    "### If the inside value is an ordered or keyed sequence, it can also be indexed further by specifying\n",
    "\n",
    "myembed1 = d['k3']['embeddeddict']\n",
    "print(myembed1)\n",
    "\n",
    "myembed2 = d['k2'][0]\n",
    "print(myembed2)\n",
    "\n",
    "myembed3 = d['k1'][1]\n",
    "print(myembed3)\n",
    "\n",
    "not_embed4 = d['k4'] # the value is an integer, so it cant be indexed further\n",
    "print(not_embed4)"
   ]
  },
  {
   "cell_type": "code",
   "execution_count": 5,
   "metadata": {},
   "outputs": [
    {
     "name": "stdout",
     "output_type": "stream",
     "text": [
      "[5, 4, 3, 2, 1]\n",
      "A\n",
      "{'k1': '123', 'k2': [5, 4, 3, 2, 1, 'a'], 'k3': {'embeddeddict': 100.0}, 'k4': 123}\n"
     ]
    }
   ],
   "source": [
    "### Dictionary values can even be sliced if the value is a sequenced data type\n",
    "\n",
    "myslice = d['k2'][::-1]\n",
    "print(myslice)\n",
    "\n",
    "\n",
    "### This doesnt work, look closer and realise that in-line methods are NoneTypes\n",
    "### What it actually did is re-assign the dictionary k2 value itself.\n",
    "\n",
    "myslice = d['k2'].reverse()\n",
    "d['k2'].append('a')\n",
    "slice = d['k2'][-1].upper() #this doesnt actually re-assign the list content...\n",
    "print(slice)\n",
    "print(d)\n"
   ]
  },
  {
   "cell_type": "code",
   "execution_count": 6,
   "metadata": {},
   "outputs": [
    {
     "name": "stdout",
     "output_type": "stream",
     "text": [
      "['a', 1, 2, 3, 4, 5]\n",
      "{'k1': '123', 'k2': ['a', 1, 2, 3, 4, 5], 'k3': {'embeddeddict': 100.0}, 'k4': 123}\n"
     ]
    }
   ],
   "source": [
    "### assigning a new variable to the dict-value will also dynamically mutate the dictionary\n",
    "### it is LINKED to the dictionary\n",
    "\n",
    "myk2value = d['k2']\n",
    "myk2list = myk2value\n",
    "myk2list.reverse() #this yet again reversed the dict, not just the new variable. \n",
    "print(myk2list) \n",
    "print(d)\n",
    "\n"
   ]
  },
  {
   "cell_type": "code",
   "execution_count": 7,
   "metadata": {},
   "outputs": [
    {
     "name": "stdout",
     "output_type": "stream",
     "text": [
      "<class 'NoneType'>\n",
      "{'k1': '123', 'k2': ['a', 1, 2, 3, 4, 5, 'seven'], 'k3': {'embeddeddict': 100.0}, 'k4': 123}\n",
      "SEVEN\n",
      "{'k1': '123', 'k2': ['a', 1, 2, 3, 4, 5], 'k3': {'embeddeddict': 100.0}, 'k4': 123}\n"
     ]
    }
   ],
   "source": [
    "### more list functinos\n",
    "\n",
    "modified_k2list = type(d['k2'].append('seven'))\n",
    "print(modified_k2list)\n",
    "\n",
    "print(d)\n",
    "\n",
    "popped_dict_value = d['k2'].pop().upper()\n",
    "print(popped_dict_value)\n",
    "\n",
    "print(d)\n"
   ]
  },
  {
   "cell_type": "markdown",
   "metadata": {},
   "source": [
    "Take-home message: Built-In Methods that execute in-line are NoneTypes even if\n",
    "assigned as variables. So you can't apply another method on a Nonetype...\n",
    "\n",
    "Also, any method applied on a key referenced, will result in the method being\n",
    "applied on the actual dictionary, not on the variable assigned to the the key.method ...\n",
    "\n",
    "key references are not independent copied object types, they carry recursive referencing\n",
    "to the object the key is referencing to... (obvious but just for clarifying)\n"
   ]
  },
  {
   "cell_type": "markdown",
   "metadata": {},
   "source": []
  }
 ],
 "metadata": {
  "kernelspec": {
   "display_name": "base",
   "language": "python",
   "name": "python3"
  },
  "language_info": {
   "codemirror_mode": {
    "name": "ipython",
    "version": 3
   },
   "file_extension": ".py",
   "mimetype": "text/x-python",
   "name": "python",
   "nbconvert_exporter": "python",
   "pygments_lexer": "ipython3",
   "version": "3.12.7"
  }
 },
 "nbformat": 4,
 "nbformat_minor": 2
}
