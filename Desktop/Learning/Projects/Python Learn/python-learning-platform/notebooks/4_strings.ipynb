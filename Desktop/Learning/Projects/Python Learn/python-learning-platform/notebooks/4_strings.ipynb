{
 "cells": [
  {
   "cell_type": "markdown",
   "metadata": {},
   "source": [
    "### Strings are sequences of ordered immutable characters enclosed by either a \"abc\" or 'abc'.\n",
    "\n",
    "Since they are ordered, character elements can be called/referenced to.\n",
    "This is done through indexing or slicing, using [] notations.\n",
    "\n",
    "----> If the string itself contains quotes or apostrophes, then always use reversed.\n",
    "\n",
    "   e.g \"Hello, this is Henry's code\"\n",
    "       ' Henry typed on the keyboard saying, \"This is a quote\". '\n",
    "\n",
    "  \n",
    "----> The use of elements such as \\n and \\t can be used to format strings. (Escape Sequences) \n",
    "\n",
    "----> The length of an object can be measured using built-in len() function\n",
    "\n",
    "\n",
    "Indexing -------> \n",
    "\n",
    "      The first character uses index 0\n",
    "\n",
    "           character: h  e  l  l  o\n",
    "\n",
    "           index:     0  1  2  3  4\n",
    "\n",
    "           reverse    0 -4 -3 -2 -1\n",
    "           index:   \n",
    "\n",
    "\n",
    "Slicing ------->\n",
    "\n",
    "Slicing allows you to grab a subsection of multiple characters.\n",
    "\n",
    "   The following syntax:\n",
    "   \n",
    "   my slice = mystring[start:stop:step]\n",
    "   \n",
    "       start is the self explanatory index\n",
    "       stop is the index it goes up to (but not including)\n",
    "       step is the size of the \"jumps\""
   ]
  },
  {
   "cell_type": "code",
   "execution_count": 3,
   "metadata": {},
   "outputs": [
    {
     "name": "stdout",
     "output_type": "stream",
     "text": [
      "5\n",
      "\n",
      "Hello, this is:\n",
      "Henry's code \n",
      "\n",
      "Henry typed on the keyboard saying,\t \"This is a quote\". \n",
      "\n",
      "h\n",
      "e\n",
      "l\n",
      "l\n",
      "o\n"
     ]
    }
   ],
   "source": [
    "myhello = 'hello'\n",
    "print(f\"{len(myhello)}\\n\")\n",
    "print(\"Hello, this is:\\nHenry's code \\n\") # \\n is a linebreak\n",
    "print('Henry typed on the keyboard saying,\\t \"This is a quote\". \\n') # \\t is a space-break\n",
    "\n",
    "my_string = \"hello\"\n",
    "print(my_string[0])\n",
    "print(my_string[1])\n",
    "print(my_string[2])\n",
    "print(my_string[3])\n",
    "print(my_string[4])\n"
   ]
  },
  {
   "cell_type": "code",
   "execution_count": null,
   "metadata": {},
   "outputs": [
    {
     "name": "stdout",
     "output_type": "stream",
     "text": [
      "hlowrd\n",
      "hlow\n",
      "world\n",
      "hello \n",
      "hello world\n",
      "hello worl\n",
      "dlrow olleh\n"
     ]
    }
   ],
   "source": [
    "mystring = 'hello world'\n",
    "\n",
    "print(mystring[0::2])\n",
    "print(mystring[0:-3:2]) # notice how stop is non-inclusive & how spaces counts as characters\n",
    "print(mystring[6:])\n",
    "print(mystring[:6])\n",
    "\n",
    "print(mystring[::]) #empty values are default [0:end:1]\n",
    "print(mystring[:-1:])\n",
    "print(mystring[::-1]) #reverse word\n"
   ]
  },
  {
   "cell_type": "code",
   "execution_count": null,
   "metadata": {},
   "outputs": [],
   "source": []
  }
 ],
 "metadata": {
  "kernelspec": {
   "display_name": "Python 3",
   "language": "python",
   "name": "python3"
  },
  "language_info": {
   "codemirror_mode": {
    "name": "ipython",
    "version": 3
   },
   "file_extension": ".py",
   "mimetype": "text/x-python",
   "name": "python",
   "nbconvert_exporter": "python",
   "pygments_lexer": "ipython3",
   "version": "3.9.6"
  }
 },
 "nbformat": 4,
 "nbformat_minor": 2
}
