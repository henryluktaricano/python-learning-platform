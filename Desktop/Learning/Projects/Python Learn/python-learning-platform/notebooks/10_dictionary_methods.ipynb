{
 "cells": [
  {
   "cell_type": "markdown",
   "metadata": {},
   "source": [
    "# Some Dictionary Methods\n",
    "\n",
    "    dict.keys() ---> returns all the keys\n",
    "    dict.values() --> returns all the values\n",
    "    dict.items() ---> returns all the pairings"
   ]
  },
  {
   "cell_type": "code",
   "execution_count": 1,
   "metadata": {},
   "outputs": [
    {
     "name": "stdout",
     "output_type": "stream",
     "text": [
      "dict_keys(['k1', 'k2', 'k4'])\n",
      "dict_values(['123', [5, 4, 3], 123])\n",
      "dict_items([('k1', '123'), ('k2', [5, 4, 3]), ('k4', 123)])\n",
      "<class 'dict_keys'>\n"
     ]
    }
   ],
   "source": [
    "d = {'k1': '123', 'k2': [5, 4, 3], 'k4': 123}\n",
    "\n",
    "print(d.keys())\n",
    "print(d.values())\n",
    "print(d.items())\n",
    "\n",
    "print(type(d.keys())) #have their own data type\n"
   ]
  },
  {
   "cell_type": "code",
   "execution_count": 2,
   "metadata": {},
   "outputs": [
    {
     "name": "stdout",
     "output_type": "stream",
     "text": [
      "Cool\n",
      "{'k1': '123', 'k2': ['a', 'b'], 'k4': 123}\n"
     ]
    }
   ],
   "source": [
    "### more practice\n",
    "\n",
    "\n",
    "d['k2'] = ['a','b','cool']\n",
    "print(d['k2'][2].capitalize())\n",
    "d['k2'].pop()\n",
    "print(d)"
   ]
  },
  {
   "cell_type": "code",
   "execution_count": null,
   "metadata": {},
   "outputs": [],
   "source": []
  }
 ],
 "metadata": {
  "kernelspec": {
   "display_name": "Python 3",
   "language": "python",
   "name": "python3"
  },
  "language_info": {
   "codemirror_mode": {
    "name": "ipython",
    "version": 3
   },
   "file_extension": ".py",
   "mimetype": "text/x-python",
   "name": "python",
   "nbconvert_exporter": "python",
   "pygments_lexer": "ipython3",
   "version": "3.9.6"
  }
 },
 "nbformat": 4,
 "nbformat_minor": 2
}
