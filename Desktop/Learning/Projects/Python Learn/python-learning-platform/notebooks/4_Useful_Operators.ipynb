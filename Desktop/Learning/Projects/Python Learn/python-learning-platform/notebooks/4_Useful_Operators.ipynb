{
 "cells": [
  {
   "cell_type": "markdown",
   "metadata": {},
   "source": [
    "# Useful Operators\n",
    "\n",
    "## range(start, stop, step)\n",
    "    \n",
    "    start is inclusive\n",
    "    stop is exclusive\n",
    "    steps are jumps\n",
    "\n",
    "## enumerate(iterable, count=0)\n",
    "\n",
    "    The enumerate function returns an iterator, not a list. When you iterate over it, it gives back each item in the iterable along with its index (starting from 0 unless you specify a different start value).\n",
    "\n",
    "## zip(iterable1, iterable2)\n",
    "\n",
    "    The zip() function in Python takes two or more iterables (like strings, lists or tuples) and \"zips\" them together, returning an iterator of tuples where the first item in each iterable is paired together, the second item is paired together, and so on.\n",
    "\n",
    "    If the iterables are of unequal length, zip() stops creating pairs when the shortest iterable is exhausted.\n",
    "\n",
    "\n",
    "## min(iterable) or max(iterable)\n",
    "\n",
    "    returns the smallest or largest iterated element in the iterable\n",
    "    \n",
    "\n",
    "## in operator ---> value in iterable\n",
    "    e.g 'string' in [1,2,3] \n",
    "    The in operator in Python is used to check if a value (or element) exists in an iterable (like a list, tuple, string, dictionary, etc.). It returns True if the value is found, and False if it is not found.\n",
    "\n",
    "    Strings: Checks if a substring exists within a string.\n",
    "    Lists/Tuples: Checks if an element exists within the list or tuple.\n",
    "    Dictionaries: Checks if a key exists in the dictionary (by default — specify d.values() )\n",
    "    Sets: Checks if an element exists in the set.\n",
    "\n",
    "## Random Functions --> shuffle() and randint(start,stop)\n",
    "\n",
    "    shuffle(iterable) randomly shuffles elements inline\n",
    "\n",
    "    randint() returns a random number between the specifimens \n",
    "\n",
    "# Input Functions\n",
    "\n",
    "    save_input = input('Prompt Message Optinal') \n",
    "\n",
    "    input is always saved as a string by default\n",
    "    so use int() float() list() e\n",
    "\n",
    "\n",
    "\n"
   ]
  },
  {
   "cell_type": "markdown",
   "metadata": {},
   "source": []
  },
  {
   "cell_type": "markdown",
   "metadata": {},
   "source": []
  },
  {
   "cell_type": "code",
   "execution_count": null,
   "metadata": {},
   "outputs": [],
   "source": [
    "# Starting with range()"
   ]
  },
  {
   "cell_type": "code",
   "execution_count": 1,
   "metadata": {},
   "outputs": [
    {
     "name": "stdout",
     "output_type": "stream",
     "text": [
      "0\n",
      "1\n",
      "2\n",
      "3\n",
      "4\n"
     ]
    }
   ],
   "source": [
    "for num in range(5):\n",
    "    print(num)"
   ]
  },
  {
   "cell_type": "code",
   "execution_count": 2,
   "metadata": {},
   "outputs": [
    {
     "name": "stdout",
     "output_type": "stream",
     "text": [
      "0\n",
      "2\n",
      "4\n",
      "6\n",
      "8\n"
     ]
    }
   ],
   "source": [
    "for r in range(0,10,2):\n",
    "    print(r)\n"
   ]
  },
  {
   "cell_type": "code",
   "execution_count": 3,
   "metadata": {},
   "outputs": [
    {
     "name": "stdout",
     "output_type": "stream",
     "text": [
      "<class 'range'>\n"
     ]
    }
   ],
   "source": [
    "print(type(range(10))) # Range is a generator — doesnt save it all to memory\n"
   ]
  },
  {
   "cell_type": "code",
   "execution_count": 6,
   "metadata": {},
   "outputs": [
    {
     "data": {
      "text/plain": [
       "[0, 2, 4, 6, 8, 10]"
      ]
     },
     "execution_count": 6,
     "metadata": {},
     "output_type": "execute_result"
    }
   ],
   "source": [
    "mylist = list(range(0,11,2))\n",
    "mylist"
   ]
  },
  {
   "cell_type": "code",
   "execution_count": 7,
   "metadata": {},
   "outputs": [
    {
     "name": "stdout",
     "output_type": "stream",
     "text": [
      "At index 0 the letter is a\n",
      "At index 1 the letter is b\n",
      "At index 2 the letter is c\n",
      "At index 3 the letter is d\n",
      "At index 4 the letter is e\n"
     ]
    }
   ],
   "source": [
    "### ENUMERATE FUNCTION\n",
    "\n",
    "index_count = 0\n",
    "\n",
    "for letter in 'abcde':\n",
    "    print('At index {} the letter is {}'.format(index_count, letter))\n",
    "    index_count += 1"
   ]
  },
  {
   "cell_type": "code",
   "execution_count": 9,
   "metadata": {},
   "outputs": [
    {
     "name": "stdout",
     "output_type": "stream",
     "text": [
      "<enumerate object at 0x1039b3100>\n",
      "[(0, 'a'), (1, 'b'), (2, 'c'), (3, 'd'), (4, 'e')]\n"
     ]
    }
   ],
   "source": [
    "# Instead, the enumerate function simplifies this process\n",
    "\n",
    "word = 'abcde'\n",
    "\n",
    "myenumerated = enumerate(word) \n",
    "print(myenumerated) #doesnt actually return anything unless made into a list\n",
    "\n",
    "myiterated = list(myenumerated)\n",
    "print(myiterated)\n",
    "\n"
   ]
  },
  {
   "cell_type": "code",
   "execution_count": 10,
   "metadata": {},
   "outputs": [
    {
     "data": {
      "text/plain": [
       "enumerate"
      ]
     },
     "execution_count": 10,
     "metadata": {},
     "output_type": "execute_result"
    }
   ],
   "source": [
    "type(enumerate(word))"
   ]
  },
  {
   "cell_type": "code",
   "execution_count": 11,
   "metadata": {},
   "outputs": [
    {
     "name": "stdout",
     "output_type": "stream",
     "text": [
      "(0, 'a')\n",
      "(1, 'b')\n",
      "(2, 'c')\n",
      "(3, 'd')\n",
      "(4, 'e')\n"
     ]
    }
   ],
   "source": [
    "### So the previous example can be done by ...\n",
    "\n",
    "\n",
    "for i in enumerate(word):\n",
    "    print(i)\n",
    "\n",
    "# enumerate is like an iterable object that only outputs the content lazily when iterated upon"
   ]
  },
  {
   "cell_type": "code",
   "execution_count": 12,
   "metadata": {},
   "outputs": [
    {
     "name": "stdout",
     "output_type": "stream",
     "text": [
      "0 a\n",
      "1 b\n",
      "2 c\n",
      "3 d\n",
      "4 e\n"
     ]
    }
   ],
   "source": [
    "for (index,value) in enumerate(word):\n",
    "    print(index,value)"
   ]
  },
  {
   "cell_type": "code",
   "execution_count": 17,
   "metadata": {},
   "outputs": [
    {
     "name": "stdout",
     "output_type": "stream",
     "text": [
      "[(1, 'a', 100), (2, 'b', 200), (3, 'c', 300)]\n"
     ]
    }
   ],
   "source": [
    "# ZIP() Function\n",
    "\n",
    "mynumbers = [1,2,3]\n",
    "mywords = ['a','b','c']\n",
    "mylist3 = [100,200,300]\n",
    "\n",
    "zip(mynumbers, mywords, mylist3) #stored in memory at such location, but requires iterating for unpacking\n",
    "\n",
    "print(list(zip(mynumbers, mywords, mylist3)))\n"
   ]
  },
  {
   "cell_type": "code",
   "execution_count": 16,
   "metadata": {},
   "outputs": [
    {
     "name": "stdout",
     "output_type": "stream",
     "text": [
      "(1, 'a', 100)\n",
      "(2, 'b', 200)\n",
      "(3, 'c', 300)\n"
     ]
    }
   ],
   "source": [
    "for i in zip(mynumbers, mywords, mylist3):\n",
    "    print(i)\n"
   ]
  },
  {
   "cell_type": "code",
   "execution_count": 18,
   "metadata": {},
   "outputs": [
    {
     "data": {
      "text/plain": [
       "[(1, 1, 'h', 'a'),\n",
       " (2, 2, 'i', 'b'),\n",
       " (3, 3, ' ', 'c'),\n",
       " (4, 4, 't', 'd'),\n",
       " (5, 5, 'h', 'e'),\n",
       " (6, 6, 'e', 'f'),\n",
       " (7, 7, 'r', 'g'),\n",
       " (8, 8, 'e', 'h'),\n",
       " (9, 9, '!', 'i')]"
      ]
     },
     "execution_count": 18,
     "metadata": {},
     "output_type": "execute_result"
    }
   ],
   "source": [
    "### more iterable objects can be used with zip... \n",
    "\n",
    "mlist1 = [1,2,3,4,5,6,7,8,9]\n",
    "mtuple2 = (1,2,3,4,5,6,7,8,9)\n",
    "mstring3 = 'hi there!'\n",
    "mpackedlist4 = [('a'),('b'),('c'),('d'),('e'),('f'),('g'),('h'),('i')]\n",
    "\n",
    "zip(mlist1, mtuple2, mstring3, mpackedlist4)\n",
    "\n",
    "list(zip(mlist1, mtuple2, mstring3, mpackedlist4))"
   ]
  },
  {
   "cell_type": "code",
   "execution_count": 19,
   "metadata": {},
   "outputs": [
    {
     "name": "stdout",
     "output_type": "stream",
     "text": [
      "1 1 h a\n",
      "2 2 i b\n",
      "3 3   c\n",
      "4 4 t d\n",
      "5 5 h e\n",
      "6 6 e f\n",
      "7 7 r g\n",
      "8 8 e h\n",
      "9 9 ! i\n"
     ]
    }
   ],
   "source": [
    "for x,y,z,w in zip(mlist1, mtuple2, mstring3, mpackedlist4):\n",
    "    print(x,y,z,w)"
   ]
  },
  {
   "cell_type": "code",
   "execution_count": 20,
   "metadata": {},
   "outputs": [
    {
     "data": {
      "text/plain": [
       "True"
      ]
     },
     "execution_count": 20,
     "metadata": {},
     "output_type": "execute_result"
    }
   ],
   "source": [
    "# in operator\n",
    "\n",
    "'a' in mywords"
   ]
  },
  {
   "cell_type": "code",
   "execution_count": 21,
   "metadata": {},
   "outputs": [
    {
     "data": {
      "text/plain": [
       "True"
      ]
     },
     "execution_count": 21,
     "metadata": {},
     "output_type": "execute_result"
    }
   ],
   "source": [
    "myapple = 'apple'\n",
    "\n",
    "'a' in myapple"
   ]
  },
  {
   "cell_type": "code",
   "execution_count": 22,
   "metadata": {},
   "outputs": [
    {
     "data": {
      "text/plain": [
       "False"
      ]
     },
     "execution_count": 22,
     "metadata": {},
     "output_type": "execute_result"
    }
   ],
   "source": [
    "'b' in 'xyz'"
   ]
  },
  {
   "cell_type": "code",
   "execution_count": 23,
   "metadata": {},
   "outputs": [
    {
     "data": {
      "text/plain": [
       "True"
      ]
     },
     "execution_count": 23,
     "metadata": {},
     "output_type": "execute_result"
    }
   ],
   "source": [
    "1 in [1,2,3,4,5]"
   ]
  },
  {
   "cell_type": "code",
   "execution_count": 24,
   "metadata": {},
   "outputs": [
    {
     "data": {
      "text/plain": [
       "True"
      ]
     },
     "execution_count": 24,
     "metadata": {},
     "output_type": "execute_result"
    }
   ],
   "source": [
    "'x' in ['x','y','z']"
   ]
  },
  {
   "cell_type": "code",
   "execution_count": 25,
   "metadata": {},
   "outputs": [
    {
     "data": {
      "text/plain": [
       "True"
      ]
     },
     "execution_count": 25,
     "metadata": {},
     "output_type": "execute_result"
    }
   ],
   "source": [
    "x = 100\n",
    "\n",
    "x in [100,200,300]"
   ]
  },
  {
   "cell_type": "code",
   "execution_count": 26,
   "metadata": {},
   "outputs": [
    {
     "data": {
      "text/plain": [
       "True"
      ]
     },
     "execution_count": 26,
     "metadata": {},
     "output_type": "execute_result"
    }
   ],
   "source": [
    "mytuple = ('kiwi','b','c','d')\n",
    "\n",
    "myword = 'kiwi'\n",
    "\n",
    "myword in mytuple\n",
    "\n"
   ]
  },
  {
   "cell_type": "code",
   "execution_count": 27,
   "metadata": {},
   "outputs": [
    {
     "data": {
      "text/plain": [
       "False"
      ]
     },
     "execution_count": 27,
     "metadata": {},
     "output_type": "execute_result"
    }
   ],
   "source": [
    "mytuple = ('kiwi','b','c','d')\n",
    "\n",
    "myletter = 'k'\n",
    "\n",
    "myletter in mytuple\n",
    "\n",
    "# it only checks for the specified object amongst the whole iterable components — it doesnt nest further\n",
    "\n"
   ]
  },
  {
   "cell_type": "code",
   "execution_count": 28,
   "metadata": {},
   "outputs": [
    {
     "data": {
      "text/plain": [
       "True"
      ]
     },
     "execution_count": 28,
     "metadata": {},
     "output_type": "execute_result"
    }
   ],
   "source": [
    "mydictionary = {'k1':'potato', 'k2':'carrot'}\n",
    "\n",
    "'k2' in mydictionary"
   ]
  },
  {
   "cell_type": "code",
   "execution_count": 29,
   "metadata": {},
   "outputs": [
    {
     "data": {
      "text/plain": [
       "False"
      ]
     },
     "execution_count": 29,
     "metadata": {},
     "output_type": "execute_result"
    }
   ],
   "source": [
    "'potato' in mydictionary # no potato key, only value. In checks only for keys"
   ]
  },
  {
   "cell_type": "code",
   "execution_count": 30,
   "metadata": {},
   "outputs": [
    {
     "data": {
      "text/plain": [
       "True"
      ]
     },
     "execution_count": 30,
     "metadata": {},
     "output_type": "execute_result"
    }
   ],
   "source": [
    "### values can be searched for using d.values()\n",
    "\n",
    "'potato' in mydictionary.values()\n"
   ]
  },
  {
   "cell_type": "code",
   "execution_count": 31,
   "metadata": {},
   "outputs": [
    {
     "data": {
      "text/plain": [
       "True"
      ]
     },
     "execution_count": 31,
     "metadata": {},
     "output_type": "execute_result"
    }
   ],
   "source": [
    "('k1', 'potato') in mydictionary.items() # since .items() stores stuff in tuples...."
   ]
  },
  {
   "cell_type": "code",
   "execution_count": 32,
   "metadata": {},
   "outputs": [
    {
     "name": "stdout",
     "output_type": "stream",
     "text": [
      "{'p', 'l', 'a', 'e'}\n"
     ]
    },
    {
     "data": {
      "text/plain": [
       "True"
      ]
     },
     "execution_count": 32,
     "metadata": {},
     "output_type": "execute_result"
    }
   ],
   "source": [
    "myset = set('apple')\n",
    "print(myset)\n",
    "\n",
    "'a' in myset"
   ]
  },
  {
   "cell_type": "code",
   "execution_count": 33,
   "metadata": {},
   "outputs": [
    {
     "data": {
      "text/plain": [
       "1"
      ]
     },
     "execution_count": 33,
     "metadata": {},
     "output_type": "execute_result"
    }
   ],
   "source": [
    "### min() or max()\n",
    "\n",
    "min(mynumbers)\n"
   ]
  },
  {
   "cell_type": "code",
   "execution_count": 34,
   "metadata": {},
   "outputs": [
    {
     "data": {
      "text/plain": [
       "3"
      ]
     },
     "execution_count": 34,
     "metadata": {},
     "output_type": "execute_result"
    }
   ],
   "source": [
    "max(mynumbers)"
   ]
  },
  {
   "cell_type": "code",
   "execution_count": 35,
   "metadata": {},
   "outputs": [
    {
     "data": {
      "text/plain": [
       "'c'"
      ]
     },
     "execution_count": 35,
     "metadata": {},
     "output_type": "execute_result"
    }
   ],
   "source": [
    "max(mywords)"
   ]
  },
  {
   "cell_type": "code",
   "execution_count": 36,
   "metadata": {},
   "outputs": [
    {
     "data": {
      "text/plain": [
       "'p'"
      ]
     },
     "execution_count": 36,
     "metadata": {},
     "output_type": "execute_result"
    }
   ],
   "source": [
    "max(myapple)"
   ]
  },
  {
   "cell_type": "code",
   "execution_count": 37,
   "metadata": {},
   "outputs": [
    {
     "data": {
      "text/plain": [
       "210"
      ]
     },
     "execution_count": 37,
     "metadata": {},
     "output_type": "execute_result"
    }
   ],
   "source": [
    "min([690,549,495,305,210])"
   ]
  },
  {
   "cell_type": "code",
   "execution_count": 38,
   "metadata": {},
   "outputs": [
    {
     "name": "stdout",
     "output_type": "stream",
     "text": [
      "[9, 5, 1, 3, 8, 4, 7, 6, 2]\n"
     ]
    }
   ],
   "source": [
    "### RANDOM FUNCTION\n",
    "from random import shuffle\n",
    "\n",
    "mylist = [1,2,3,4,5,6,7,8,9]\n",
    "\n",
    "shuffle(mylist) # This is a NoneType and does not return..  it processes mylist in-place\n",
    "\n",
    "print(mylist)\n",
    "\n"
   ]
  },
  {
   "cell_type": "code",
   "execution_count": 76,
   "metadata": {},
   "outputs": [
    {
     "name": "stdout",
     "output_type": "stream",
     "text": [
      "36\n"
     ]
    }
   ],
   "source": [
    "from random import randint\n",
    "\n",
    "randominteger = randint(0,100)\n",
    "\n",
    "print(randominteger)"
   ]
  },
  {
   "cell_type": "code",
   "execution_count": 77,
   "metadata": {},
   "outputs": [
    {
     "name": "stdout",
     "output_type": "stream",
     "text": [
      "78667\n"
     ]
    }
   ],
   "source": [
    "### Input Functions\n",
    "\n",
    "save_result = input(\"Favourite Number: \")\n",
    "\n",
    "print(save_result)"
   ]
  },
  {
   "cell_type": "code",
   "execution_count": 78,
   "metadata": {},
   "outputs": [
    {
     "data": {
      "text/plain": [
       "str"
      ]
     },
     "execution_count": 78,
     "metadata": {},
     "output_type": "execute_result"
    }
   ],
   "source": [
    "type(save_result)"
   ]
  },
  {
   "cell_type": "code",
   "execution_count": 79,
   "metadata": {},
   "outputs": [],
   "source": [
    "#so we need to transform input data types\n",
    "\n",
    "integered_result = int(save_result)"
   ]
  },
  {
   "cell_type": "code",
   "execution_count": 80,
   "metadata": {},
   "outputs": [
    {
     "data": {
      "text/plain": [
       "int"
      ]
     },
     "execution_count": 80,
     "metadata": {},
     "output_type": "execute_result"
    }
   ],
   "source": [
    "type(integered_result)"
   ]
  },
  {
   "cell_type": "code",
   "execution_count": 82,
   "metadata": {},
   "outputs": [
    {
     "name": "stdout",
     "output_type": "stream",
     "text": [
      "apple,banana,grape\n",
      "['apple', 'banana', 'grape']\n"
     ]
    }
   ],
   "source": [
    "input_fruits = input('Name fruits, separated by a comma')\n",
    "\n",
    "print(input_fruits)\n",
    "\n",
    "fruit_list = input_fruits.split(',') #split() turns strings into lists...\n",
    "\n",
    "print(fruit_list)\n"
   ]
  },
  {
   "cell_type": "code",
   "execution_count": null,
   "metadata": {},
   "outputs": [],
   "source": []
  },
  {
   "cell_type": "code",
   "execution_count": null,
   "metadata": {},
   "outputs": [],
   "source": []
  }
 ],
 "metadata": {
  "kernelspec": {
   "display_name": "Python 3",
   "language": "python",
   "name": "python3"
  },
  "language_info": {
   "codemirror_mode": {
    "name": "ipython",
    "version": 3
   },
   "file_extension": ".py",
   "mimetype": "text/x-python",
   "name": "python",
   "nbconvert_exporter": "python",
   "pygments_lexer": "ipython3",
   "version": "3.9.6"
  }
 },
 "nbformat": 4,
 "nbformat_minor": 2
}
