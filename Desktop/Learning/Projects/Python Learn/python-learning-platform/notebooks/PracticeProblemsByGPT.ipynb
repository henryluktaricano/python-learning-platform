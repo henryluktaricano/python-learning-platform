{
 "cells": [
  {
   "cell_type": "markdown",
   "id": "2c1c8e0e",
   "metadata": {},
   "source": [
    "\n",
    "# Python Practice Notebook\n",
    "\n",
    "This notebook contains a series of exercises designed to reinforce and challenge your understanding of Python basics, including:\n",
    "\n",
    "- Object Types\n",
    "- Numbers\n",
    "- Variable Assignment\n",
    "- Strings and Their Methods\n",
    "- String Formatting\n",
    "- Lists and Their Methods\n",
    "- Dictionaries\n",
    "\n",
    "Each section contains problems of varying difficulty, from basic repetition to advanced challenges. Good luck!\n"
   ]
  },
  {
   "cell_type": "markdown",
   "id": "3ab06278",
   "metadata": {},
   "source": [
    "\n",
    "### Create a list containing different types of objects (integer, string, float, boolean, dictionary). \n",
    "2. Write a loop to print out each item's type.\n"
   ]
  },
  {
   "cell_type": "code",
   "execution_count": 24,
   "id": "23da75d7",
   "metadata": {},
   "outputs": [
    {
     "name": "stdout",
     "output_type": "stream",
     "text": [
      "120 is a data object type <class 'int'>\n",
      "120.0 is a data object type <class 'float'>\n",
      "henry is a data object type <class 'str'>\n",
      "['a', 'b', 'c'] is a data object type <class 'list'>\n",
      "('a', 'b', 'c') is a data object type <class 'tuple'>\n",
      "{'k1': 'apple'} is a data object type <class 'dict'>\n",
      "{1, 2, 3} is a data object type <class 'set'>\n",
      "frozenset({'c', 'a', 'b'}) is a data object type <class 'frozenset'>\n",
      "True is a data object type <class 'bool'>\n",
      "range(0, 20, 2) is a data object type <class 'range'>\n"
     ]
    }
   ],
   "source": [
    "#2 intermediate exercise\n",
    "\n",
    "crazy_list = [120, 120.0, 'henry', ['a', 'b', 'c'], ('a', 'b', 'c'), {'k1': 'apple'}, {1, 2, 3}, frozenset('abc'), True, range(0, 20, 2)]\n",
    "\n",
    "counter = 0\n",
    "for crazy in crazy_list:\n",
    "    print(f'{crazy_list[counter]} is a data object type {type(crazy)}')\n",
    "    counter += 1"
   ]
  },
  {
   "cell_type": "markdown",
   "id": "01d22e39",
   "metadata": {},
   "source": [
    "### Advanced Challenge\n",
    "3. Write a function `check_types(collection)` that takes a list and returns a dictionary where the keys are the types and the values are counts of how many times each type appears in the list."
   ]
  },
  {
   "cell_type": "code",
   "execution_count": 30,
   "id": "84848fef",
   "metadata": {},
   "outputs": [
    {
     "data": {
      "text/plain": [
       "{'bytearray': 6,\n",
       " 'complex': 4,\n",
       " 'frozenset': 12,\n",
       " 'bool': 9,\n",
       " 'NoneType': 13,\n",
       " 'list': 18,\n",
       " 'int': 15,\n",
       " 'float': 4,\n",
       " 'set': 3,\n",
       " 'tuple': 9,\n",
       " 'dict': 2,\n",
       " 'str': 7}"
      ]
     },
     "execution_count": 30,
     "metadata": {},
     "output_type": "execute_result"
    }
   ],
   "source": [
    "# Exercise 3\n",
    "'''Write a function `check_types(collection)` that takes a list and returns a\n",
    "dictionary where the keys are the types and the values are counts of how many times each type appears in the list.\n",
    "'''\n",
    "####################################################################################################################################################################################\n",
    "# Random Example Poisson Distributed List gpt generated.... \n",
    "random_list = [bytearray(b'byte array'), (3+4j), frozenset({10, 20, 30}), True, \n",
    "None, [0, 1, 2, 3, 4], 10, frozenset({10, 20, 30}), 3.14, True, None, 10, [0, 1, 2, 3, 4], \n",
    "None, [0, 1, 2, 3, 4, 5, 6, 7, 8, 9], 42, frozenset({10, 20, 30}), 10, None, {8, 9, 7}, bytearray(b'byte array'), \n",
    "[0, 1, 2, 3, 4, 5, 6, 7, 8, 9], 10, 10, 10, None, [0, 1, 2, 3, 4], bytearray(b'byte array'), [0, 1, 2, 3, 4], [1, 2, 3], \n",
    "True, (4, 5, 6), [0, 1, 2, 3, 4, 5, 6, 7, 8, 9], bytearray(b'byte array'), bytearray(b'byte array'), \n",
    "[0, 1, 2, 3, 4, 5, 6, 7, 8, 9], {'key': 'value'}, (4, 5, 6), 10, frozenset({10, 20, 30}), [1, 2, 3], 'hello',\n",
    "frozenset({10, 20, 30}), 42, (3+4j), [1, 2, 3], 'hello', True, frozenset({10, 20, 30}), None, 42, True,\n",
    "frozenset({10, 20, 30}), {8, 9, 7}, {'key': 'value'}, 'hello', [0, 1, 2, 3, 4, 5, 6, 7, 8, 9], \n",
    "(4, 5, 6), (4, 5, 6), (3+4j), frozenset({10, 20, 30}), None, [0, 1, 2, 3, 4, 5, 6, 7, 8, 9], 10,\n",
    "True, None, None, frozenset({10, 20, 30}), None, (4, 5, 6), 'hello', 10, None, [0, 1, 2, 3, 4, 5, 6, 7, 8, 9],\n",
    "[1, 2, 3], frozenset({10, 20, 30}), True, frozenset({10, 20, 30}), 'hello', bytearray(b'byte array'), (4, 5, 6), True,\n",
    "42, 10, True, None, [1, 2, 3], 3.14, [0, 1, 2, 3, 4, 5, 6, 7, 8, 9], 3.14, 42, {8, 9, 7}, (3+4j), (4, 5, 6), frozenset({10, 20, 30}),\n",
    "'hello', (4, 5, 6), (4, 5, 6), [1, 2, 3], 'hello', 3.14, None]\n",
    "\n",
    "####################################################################################################################################################################################\n",
    "\n",
    "\n",
    "def check_types(collection):\n",
    "\n",
    "    thedictionary = {}\n",
    "\n",
    "    for i in collection:\n",
    "\n",
    "        obj_type_i = type(i).__name__\n",
    "\n",
    "        if obj_type_i in thedictionary:\n",
    "            thedictionary[obj_type_i] += 1\n",
    "        else:\n",
    "            thedictionary[obj_type_i] = 1\n",
    "\n",
    "    return thedictionary\n",
    "\n",
    "\n",
    "####################################################################################################################################################################################\n",
    "        \n",
    "check_types(random_list)\n"
   ]
  },
  {
   "cell_type": "code",
   "execution_count": 5,
   "id": "76425bcf",
   "metadata": {},
   "outputs": [
    {
     "name": "stdout",
     "output_type": "stream",
     "text": [
      "23\n",
      "38\n",
      "225\n",
      "6.428571428571429\n",
      "6\n",
      "3\n"
     ]
    }
   ],
   "source": [
    "# Exercise 1\n",
    "\n",
    "print(15 + 4 * 2)\n",
    "print((15+4)*2)\n",
    "print(15**2)\n",
    "print(45/7)\n",
    "print(45//7)\n",
    "print(45 % 7)"
   ]
  },
  {
   "cell_type": "markdown",
   "id": "8402b055",
   "metadata": {},
   "source": [
    "### Intermediate Exercise\n",
    "2. Write a function that takes two numbers and returns:\n",
    "   - Their sum\n",
    "   - Their difference\n",
    "   - Their product\n",
    "   - Their quotient"
   ]
  },
  {
   "cell_type": "code",
   "execution_count": 6,
   "id": "3d9deee2",
   "metadata": {},
   "outputs": [
    {
     "name": "stdout",
     "output_type": "stream",
     "text": [
      "The sum is 8\n",
      "The difference is 2\n",
      "Their product is 15\n",
      "The quotient is 1\n"
     ]
    }
   ],
   "source": [
    "# Exercise 2\n",
    "def calculator(x,y):\n",
    "\n",
    "    print(f'The sum is {x+y}')\n",
    "    if x >= y:\n",
    "        print(f'The difference is {x-y}')\n",
    "    else:\n",
    "        print(f'The difference is {y-x}')\n",
    "    print(f'Their product is {x*y}')\n",
    "    if x>=y:\n",
    "        print(f'The quotient is {x//y}')\n",
    "    else:\n",
    "        print(f'The quotient is {y//x}')\n",
    "\n",
    "calculator(3,5)"
   ]
  },
  {
   "cell_type": "markdown",
   "id": "eaf69ccf",
   "metadata": {},
   "source": [
    "### Advanced Challenge\n",
    "3. Write a function to compute the factorial of a number using a loop (without using recursion or built-in functions).\n"
   ]
  },
  {
   "cell_type": "code",
   "execution_count": 7,
   "id": "4d37a4dd",
   "metadata": {},
   "outputs": [
    {
     "name": "stdout",
     "output_type": "stream",
     "text": [
      "The factorial of 0 is 1\n",
      "The factorial of 1 is 1\n",
      "The factorial of 2 is 2\n",
      "The factorial of 3 is 6\n",
      "The factorial of 4 is 24\n",
      "The factorial of 5 is 120\n",
      "The factorial of 6 is 720\n",
      "The factorial of 7 is 5040\n",
      "The factorial of 8 is 40320\n",
      "The factorial of 9 is 362880\n",
      "The factorial of 10 is 3628800\n"
     ]
    }
   ],
   "source": [
    "# Write a function to compute the factorial of a number using a loop (without using recursion or built-in functions).\n",
    "\n",
    "# so say x = 3, if 3 > 1, then\n",
    "\n",
    "\n",
    "def factorialiser(x):\n",
    "    result = 1\n",
    "\n",
    "    while x >= 1:\n",
    "        result *= x\n",
    "        x -= 1\n",
    "    return result\n",
    "\n",
    "\n",
    "for i in range(0,11):\n",
    "    print(f'The factorial of {i} is {factorialiser(i)}')"
   ]
  },
  {
   "cell_type": "code",
   "execution_count": 8,
   "id": "c983e1bb",
   "metadata": {},
   "outputs": [
    {
     "name": "stdout",
     "output_type": "stream",
     "text": [
      "20\n",
      "10\n"
     ]
    }
   ],
   "source": [
    "### 1. Assign the value `10` to a variable `a`, `20` to a variable `b`, and swap their values.\n",
    "\n",
    "a = 10 \n",
    "b = 20\n",
    "\n",
    "a = b\n",
    "\n",
    "b = 10\n",
    "\n",
    "print(a)\n",
    "print(b)"
   ]
  },
  {
   "cell_type": "markdown",
   "id": "09dec6d1",
   "metadata": {},
   "source": [
    "### Intermediate Exercise\n",
    "2. Write a program that accepts user input for three variables and prints their sum, product, and average."
   ]
  },
  {
   "cell_type": "code",
   "execution_count": 26,
   "id": "8ade2fe7",
   "metadata": {},
   "outputs": [
    {
     "name": "stdout",
     "output_type": "stream",
     "text": [
      "Their sum is 80\n",
      "Their product is 17986\n",
      "Their average is 225\n"
     ]
    }
   ],
   "source": [
    "# 2. Write a program that accepts user input for three variables and prints their sum, product, and average.\n",
    "\n",
    "num1 = int(input('Enter first number: '))\n",
    "\n",
    "num2 = int(input('Enter second number: '))\n",
    "\n",
    "num3 = int(input('Enter third number: '))\n",
    "\n",
    "\n",
    "print(f'Their sum is {num1+num2+num3}')\n",
    "print(f'Their product is {num1*num2*num3}')\n",
    "\n",
    "print(f'Their average is {(num1*num2*num3)/(num1+num2+num3):.0f}')\n",
    "\n"
   ]
  },
  {
   "cell_type": "markdown",
   "id": "63528bb1",
   "metadata": {},
   "source": [
    "### Advanced Challenge\n",
    "3. Create a variable that stores a list of numbers. Write a function that reassigns the variable to only contain even numbers.\n"
   ]
  },
  {
   "cell_type": "code",
   "execution_count": 1,
   "id": "7a816d51",
   "metadata": {},
   "outputs": [
    {
     "name": "stdout",
     "output_type": "stream",
     "text": [
      "sucess\n"
     ]
    }
   ],
   "source": [
    "''' 3. Create a variable that stores a list of numbers,\n",
    "write a function that reassigns the variable to only contain even numbers.\n",
    "\n",
    "Ir returns the number of even numbers, and repeats the function 1,000,000 times \n",
    "to give the average of \"even amounts\" from the even_partitiser function. \n",
    "Since the amount of even numbers would be close to 50 percent using randint \n",
    "after the law of large numbers (hundred thousand repetitions) it should get \n",
    "even closer to 50 percent average, the more the function is repeated  '''\n",
    "\n",
    "from random import randint\n",
    "\n",
    "\n",
    "def even_paritiser():\n",
    "    ourlist = []\n",
    "\n",
    "    for i in range(0,100):\n",
    "        ourlist.append(randint(0,1000))\n",
    "\n",
    "    if type(ourlist) == list:\n",
    "        i = 0\n",
    "        while i < len(ourlist):\n",
    "            if type(ourlist[i]) == int:\n",
    "                if ourlist[i] % 2 != 0:\n",
    "                    ourlist.pop(i)\n",
    "                    continue #if we popped it, then the index of the next one will get shifted -1 to be 0 again.. so we continue – meaning we return to the while loop start again\n",
    "                else:\n",
    "                    i += 1\n",
    "\n",
    "            elif type(ourlist[i]) == float:\n",
    "                ourlist[i] = int(ourlist[i])\n",
    "                if ourlist[i] % 2 != 0:\n",
    "                    ourlist.pop(i)\n",
    "                    continue\n",
    "                else:\n",
    "                    i += 1\n",
    "\n",
    "            else:\n",
    "                ourlist.pop(i)\n",
    "                continue\n",
    "\n",
    "    else:\n",
    "        print(f'Oops, this is not a list. This is a {type(ourlist)}')\n",
    "        \n",
    "    \n",
    "    return len(ourlist)\n",
    "\n",
    "\n",
    "\n",
    "\n",
    "def montecarlo():\n",
    "    \n",
    "    averages = []\n",
    "    for i in range(0,100000):\n",
    "        result = even_paritiser()\n",
    "        averages.append(result)\n",
    "\n",
    "    \n",
    "    average_number_of_evens = sum(averages) / len(averages)\n",
    "    return average_number_of_evens\n",
    "\n",
    "if montecarlo() > 49.95 and montecarlo() < 50.05:\n",
    "    print('sucess')"
   ]
  },
  {
   "cell_type": "markdown",
   "id": "da62dc20",
   "metadata": {},
   "source": [
    " 1. Assign a string `\"Python Programming\"` to a variable and:\n",
    "   - Convert it to uppercase.\n",
    "   - Convert it to lowercase.\n",
    "   - Count occurrences of the letter `o`. "
   ]
  },
  {
   "cell_type": "code",
   "execution_count": 2,
   "id": "638166b5",
   "metadata": {},
   "outputs": [
    {
     "name": "stdout",
     "output_type": "stream",
     "text": [
      "PYTHON PROGRAMMING\n",
      "python programming\n"
     ]
    },
    {
     "data": {
      "text/plain": [
       "2"
      ]
     },
     "execution_count": 2,
     "metadata": {},
     "output_type": "execute_result"
    }
   ],
   "source": [
    "''' 1. Assign a string `\"Python Programming\"` to a variable and:\n",
    "   - Convert it to uppercase.\n",
    "   - Convert it to lowercase.\n",
    "   - Count occurrences of the letter `o`. '''\n",
    "\n",
    "ourstring = 'Python Programming'\n",
    "\n",
    "print(ourstring.upper())\n",
    "print(ourstring.lower())\n",
    "ourstring.count('o')\n",
    "\n",
    "\n",
    "\n"
   ]
  },
  {
   "cell_type": "markdown",
   "id": "a8f5b89a",
   "metadata": {},
   "source": [
    "### Intermediate Exercise\n",
    "2. Write a function that checks if a given string is a palindrome."
   ]
  },
  {
   "cell_type": "code",
   "execution_count": 3,
   "id": "f0c1eca9",
   "metadata": {},
   "outputs": [
    {
     "name": "stdout",
     "output_type": "stream",
     "text": [
      "The word \"otto\" is a palindrome\n",
      "The word \"henry\" is not a palindrome\n"
     ]
    }
   ],
   "source": [
    "# Intermediate Exercise\n",
    "# Write a function that checks if a given string is a palindrome.\n",
    "def palindrome(word):\n",
    "\n",
    "    lowered = word.lower()\n",
    "\n",
    "    mylist_original = list(lowered)\n",
    "    mylist_to_reserve = list(lowered)\n",
    "    mylist_to_reserve.reverse()\n",
    "\n",
    "# We couldnt just reverse the list in its very own assignment as .reverse() returns NoneType\n",
    "\n",
    "    mylist_reserved = mylist_to_reserve\n",
    "    \n",
    "\n",
    "    if mylist_original == mylist_reserved:\n",
    "        print('The word \"{}\" is a palindrome'.format(word))\n",
    "    else:\n",
    "        print('The word \"{}\" is not a palindrome'.format(word))\n",
    "\n",
    "    return\n",
    "\n",
    "\n",
    "\n",
    "palindrome('otto')\n",
    "palindrome('henry')"
   ]
  },
  {
   "cell_type": "markdown",
   "id": "7317e9d6",
   "metadata": {},
   "source": [
    "### Advanced Challenge\n",
    "3. Create a function that takes two strings and returns the longest common substring."
   ]
  },
  {
   "cell_type": "code",
   "execution_count": 4,
   "id": "bbbc2b76",
   "metadata": {},
   "outputs": [
    {
     "name": "stdout",
     "output_type": "stream",
     "text": [
      "THISISTHELONGESTCOMMONSUBSTRING\n"
     ]
    }
   ],
   "source": [
    "# Exercise 3. Create a function that takes two strings and returns the longest common substring.\n",
    "\n",
    "def common(string1,string2):\n",
    "\n",
    "    dp = []\n",
    "    for i in range(len(string1) + 1):\n",
    "        row = [0] * (len(string2) + 1)\n",
    "        dp.append(row)\n",
    "\n",
    "    max_length = 0\n",
    "    end_index = 0\n",
    "\n",
    "    for i in range(1,(len(string1) + 1)):\n",
    "        for j in range(1,(len(string2) + 1)):\n",
    "\n",
    "            if string1[i-1] == string2[j-1]:\n",
    "                dp[i][j] = (dp[i-1][j-1] + 1)\n",
    "\n",
    "                if dp[i][j] > max_length:\n",
    "                    max_length = dp[i][j]\n",
    "                    end_index = i\n",
    "\n",
    "            else: \n",
    "                continue\n",
    "    \n",
    "    substring = string1[end_index - max_length:end_index]\n",
    "\n",
    "    \n",
    "    return{\n",
    "        'dp':dp,\n",
    "        'max_length':max_length,\n",
    "        'end_index':end_index,\n",
    "        'substring':substring\n",
    "        }\n",
    "\n",
    "\n",
    "\n",
    "\n",
    "string1 = (\n",
    "    \"abcdefghij\" * 50  # Repeating pattern\n",
    "    + \"THISISTHELONGESTCOMMONSUBSTRING\"  # The longest common substring\n",
    "    + \"klmnopqrst\" * 50  # Another repeating pattern\n",
    ")\n",
    "\n",
    "string2 = (\n",
    "    \"uvwxyzabcd\" * 50  # Different repeating pattern\n",
    "    + \"THISISTHELONGESTCOMMONSUBSTRING\"  # The longest common substring\n",
    "    + \"efghijklmn\" * 50  # Another different repeating pattern\n",
    ")\n",
    "\n",
    "\n",
    "\n",
    "\n",
    "result = common(string1, string2)\n",
    "\n",
    "print(result['substring'])\n",
    "\n",
    "\n",
    "\n",
    "    \n",
    "    "
   ]
  },
  {
   "cell_type": "markdown",
   "id": "bc41477e",
   "metadata": {},
   "source": [
    "### Basic Exercises\n",
    "1. Create a list of integers from 1 to 10. Perform:\n",
    "   - Append `11`\n",
    "   - Remove `5`\n",
    "   - Reverse the list"
   ]
  },
  {
   "cell_type": "code",
   "execution_count": 5,
   "id": "50818bd6",
   "metadata": {},
   "outputs": [
    {
     "name": "stdout",
     "output_type": "stream",
     "text": [
      "<class 'NoneType'>\n",
      "[1, 2, 3, 4, 5, 6, 7, 8, 9, 10, 11]\n",
      "[1, 2, 3, 4, 6, 7, 8, 9, 10, 11]\n",
      "[11, 10, 9, 8, 7, 6, 4, 3, 2, 1]\n"
     ]
    }
   ],
   "source": [
    "# Exercise 1\n",
    "\n",
    "integerslist = [1,2,3,4,5,6,7,8,9,10]\n",
    "\n",
    "print(type(integerslist.append(11)))\n",
    "print(integerslist)\n",
    "\n",
    "integerslist.pop(4)\n",
    "print(integerslist)\n",
    "\n",
    "integerslist.reverse()\n",
    "print(integerslist)\n",
    "\n",
    "\n"
   ]
  },
  {
   "cell_type": "markdown",
   "id": "9981fd35",
   "metadata": {},
   "source": [
    "### Intermediate Exercise\n",
    "2. Write a function to return the second-largest element in a list."
   ]
  },
  {
   "cell_type": "code",
   "execution_count": 6,
   "id": "b2bd5fd4",
   "metadata": {},
   "outputs": [
    {
     "name": "stdout",
     "output_type": "stream",
     "text": [
      "[529, 26, 429, 764, 73, 803, 445, 492, 517, 989, 598, 917, 1217, 711, 566, 914, 799, 171, 1140, 144, 1100, 784, 783, 232, 257, 1168, 1030, 689, 851, 226, 172, 796, 310, 1126, 519, 177, 448, 836, 696, 1125, 1037, 742, 180, 930, 354, 591, 1229, 928, 1107, 14, 1148, 975, 4, 381, 170, 625, 130, 929, 903, 726, 656, 1157, 1194, 423, 595, 846, 657, 872, 653, 207, 16, 470, 1169, 965, 41, 198, 115, 1172, 59, 99, 433, 570, 877, 133, 736, 534, 1092, 142, 172, 955, 567, 744, 861, 944, 785, 600, 1194, 230, 374, 1270, 216, 1153, 1263, 45, 316, 1043, 567, 564, 447, 154, 712, 980, 294, 423, 1024, 755, 200, 308, 173, 847, 1052, 679, 939, 845, 90, 328, 449, 706, 501, 1000, 790, 576, 645, 592, 1029, 731, 905, 755, 838, 672, 612, 1252, 1279, 360, 581, 1006, 714, 1190, 271, 914, 674, 798, 20, 781, 864, 446, 312, 1131, 656, 480, 773, 754, 1256, 917, 935, 520, 1083, 172, 1101, 755, 1170, 187, 293, 68, 1260, 350, 1169, 1070, 471, 923, 81, 312, 804, 1099, 250, 734, 126, 348, 118, 246, 126, 1147, 1283, 502, 59, 40, 88, 833, 1039, 480, 777, 285, 533, 1195, 719, 145, 305, 569, 602, 309, 628, 243, 286, 234, 207, 846, 277, 297, 76, 1278, 446, 472, 462, 155, 581, 561, 836, 346, 200, 115, 1060, 1070, 662, 819, 769, 667, 30, 597, 877, 312, 757, 1231, 1012, 224, 845, 598, 1247, 447, 455, 1086, 396, 955, 270, 637, 523, 739, 944, 527, 1199, 719, 346, 565, 162, 941, 123, 885, 996, 321, 407, 325, 523, 877, 113, 810, 146, 1282, 855, 307, 150, 749, 841, 581, 356, 661, 444, 145, 914, 462, 219, 853, 888, 923, 336, 315, 649, 170, 1240, 903, 884, 999, 749, 87, 428, 753, 214, 91, 1111, 379, 1040, 39, 874, 1088, 193, 342, 793, 571, 1244, 313, 696, 523, 588, 645, 580, 77, 557, 391, 697, 1202, 433, 957, 873, 805, 1197, 526, 348, 820, 143, 233, 986, 493, 1097, 737, 643, 1005, 564, 221, 487, 586, 239, 68, 72, 317, 241, 459, 44, 978, 236, 660, 1051, 89, 9, 1, 788, 449, 913, 819, 509, 1102, 564, 297, 1071, 81, 678, 790, 37, 766, 830, 827, 1063, 883, 1227, 1191, 679, 1170, 1044, 712, 3, 898, 531, 679, 10, 1202, 47, 937, 216, 698, 1284, 734, 724, 441, 117, 26, 734, 904, 1065, 768, 223, 928, 865, 1103, 69, 170, 1210, 985, 1070, 464, 207, 546, 128, 1230, 574, 377, 771, 381, 599, 432, 1228, 1148, 639, 878, 893, 750, 1276, 258, 111, 847, 52, 1034, 242, 1229, 1152, 177, 129, 1188, 754, 713, 59, 1246, 5, 62, 1126, 1112, 964, 795, 722, 566, 880, 918, 132, 332, 757, 1122, 1062, 614, 283, 796, 786, 939, 883, 958, 523, 585, 148, 687, 947, 350, 597, 197, 257, 83, 63, 443, 557, 250, 1194, 1146, 1147, 511, 369, 325, 918, 753, 443, 1075, 1267, 219, 1234, 1137, 705, 526, 1211, 997, 143, 458, 936, 726, 468, 327, 1232, 1240, 756, 932, 367, 169, 398, 756, 800, 1144, 935, 1286, 608, 259, 190, 1008, 287, 0, 637, 431, 264, 401, 537, 466, 473, 991, 954, 122, 1048, 373, 1083, 658, 1011, 610, 646, 560, 321, 342, 673, 1202, 76, 1260, 1062, 198, 139, 1037, 1272, 1198, 1290, 120, 885, 105, 892, 191, 861, 790, 944, 918, 411, 1, 550, 809, 204, 978, 526, 1023, 632, 127, 590, 352, 1160, 391, 580, 746, 244, 769, 58, 1251, 715, 1, 397, 448, 1011, 442, 557, 1172, 83, 595, 1044, 62, 254, 646, 171, 1126, 69, 108, 946, 1280, 1190, 187, 634, 168, 611, 836, 751, 532, 1095, 737, 22, 1268, 102, 237, 1073, 630, 991, 246, 1260, 101, 222, 1001, 513, 891, 761, 945, 13, 445, 987, 576, 975, 942, 1034, 1097, 875, 806, 748, 486, 240, 1265, 85, 984, 397, 1126, 523, 691, 530, 682, 499, 201, 1058, 1029, 303, 962, 155, 204, 1148, 1025, 796, 465, 596, 362, 709, 939, 686, 686, 723, 1212, 186, 33, 1201, 524, 242, 626, 770, 948, 265, 188, 111, 20, 1025, 1224, 1248, 141, 483, 233, 680, 623, 1077, 1080, 114, 328, 954, 665, 563, 379, 489, 894, 1104, 94, 437, 356, 7, 550, 547, 108, 390, 1202, 616, 181, 254, 795, 676, 550, 998, 62, 779, 1249, 249, 1247, 103, 1194, 1293, 411, 1250, 850, 711, 362, 1164, 1242, 549, 403, 230, 69, 71, 126, 342, 696, 628, 892, 301, 1234, 480, 1114, 27, 95, 234, 78, 1146, 98, 290, 961, 498, 780, 50, 470, 473, 345, 1150, 1035, 671, 584, 1213, 272, 673, 604, 857, 236, 136, 758, 1192, 766, 804, 399, 39, 90, 31, 415, 410, 743, 941, 509, 644, 1258, 436, 273, 19, 602, 179, 949, 111, 81, 19, 976, 1128, 190, 626, 828, 1201, 793, 750, 1093, 76, 1126, 278, 399, 802, 529, 1118, 271, 186, 894, 164, 833, 189, 1231, 449, 917, 1278, 222, 485, 1127, 723, 81, 876, 966, 919, 125, 119, 1263, 117, 1127, 782, 1215, 806, 69, 675, 1146, 67, 1112, 770, 207, 526, 477, 1173, 1143, 775, 208, 1285, 1005, 495, 1154, 212, 782, 8, 214, 620, 955, 330, 1222, 83, 286, 1229, 473, 677, 1039, 545, 530, 803, 288, 722, 7, 539, 206, 253, 425, 297, 771, 711, 186, 116, 313, 585, 283, 354, 740, 1127, 128, 1178, 444, 345, 1284, 1234, 485, 1177, 991, 42, 85, 848, 67, 1067, 125, 1150, 1088, 294, 595, 439, 344, 1191, 124, 1091, 773, 847, 211, 205, 1074, 489, 1233, 146, 458, 905, 151, 411, 1255, 318, 491, 1172, 1108, 266, 1291, 366, 841, 563, 825, 1263, 521, 681, 653, 1211, 270, 722, 548, 686, 585, 1247, 814, 612, 859, 1152, 453, 823, 1046, 966, 525, 239, 394, 414, 925, 574, 110, 70, 973, 1272, 769, 965, 1252, 399, 53, 967, 327, 571, 142, 502, 393, 494, 269, 964, 325, 580, 1022, 444, 51, 886, 845, 1093, 1086, 637, 605, 230, 1214, 635, 659, 638, 958]\n",
      "The second largest number in this list is 1292\n"
     ]
    }
   ],
   "source": [
    "# Write a function to return the second-largest element in a list.\n",
    "\n",
    "from random import randint\n",
    "\n",
    "def checker(list):\n",
    "    num_list = []\n",
    "\n",
    "    for x in list:\n",
    "        if type(x) == (int or float):\n",
    "            num_list.append(x)\n",
    "    \n",
    "    num_list.sort()\n",
    "\n",
    "    print(f'The second largest number in this list is {num_list[-2]}')\n",
    "    return \n",
    "\n",
    "\n",
    "def randomlist():\n",
    "\n",
    "    l = []\n",
    "\n",
    "\n",
    "    for i in range(0,1000):\n",
    "        l.append(randint(0, 1293))\n",
    "    return l\n",
    "\n",
    "\n",
    "print(randomlist())\n",
    "checker(randomlist())\n",
    "\n",
    "\n",
    "# function, checks if elements are all numbers, otherwise it pops them. \n",
    "# then "
   ]
  },
  {
   "cell_type": "markdown",
   "id": "d6b175a3",
   "metadata": {},
   "source": [
    "\n",
    "### Advanced Challenge\n",
    "3. Implement a function that rotates a list by `n` positions (e.g., `[1,2,3,4,5]` rotated by `2` becomes `[3,4,5,1,2]`)."
   ]
  },
  {
   "cell_type": "code",
   "execution_count": 7,
   "id": "701c15ff",
   "metadata": {},
   "outputs": [
    {
     "data": {
      "text/plain": [
       "[3, 4, 5, 1, 2]"
      ]
     },
     "execution_count": 7,
     "metadata": {},
     "output_type": "execute_result"
    }
   ],
   "source": [
    "'''Exercise 3. Implement a function that rotates a list by `n` positions (e.g., `[1,2,3,4,5]`\n",
    " rotated by `2` becomes `[3,4,5,1,2]`).'''\n",
    "\n",
    "\n",
    "\n",
    "\n",
    "def shifter(shift, list):\n",
    "    length = len(list)\n",
    "    shifted_list = [0] * len(list)\n",
    "\n",
    "    shift = shift % length #this ensures that any shifts that cause the minus index to go beyond gets looped, using the remainder.\n",
    "    if shift <= len(list):\n",
    "        for i in range(0,len(list)):\n",
    "            new_index = i - (shift)\n",
    "            shifted_list[new_index] = list[i]\n",
    "\n",
    "    else: \n",
    "        pass\n",
    "\n",
    "\n",
    "    return shifted_list\n",
    "\n",
    "\n",
    "shifter(2,[1,2,3,4,5])\n",
    "\n",
    "\n",
    "\n"
   ]
  },
  {
   "cell_type": "markdown",
   "id": "9da90d63",
   "metadata": {},
   "source": []
  },
  {
   "cell_type": "markdown",
   "id": "41842c5b",
   "metadata": {},
   "source": [
    "### Basic Exercises\n",
    "1. Create a dictionary with three key-value pairs:\n",
    "   - Name: \"Alice\"\n",
    "   - Age: 25\n",
    "   - Occupation: \"Engineer\""
   ]
  },
  {
   "cell_type": "code",
   "execution_count": 8,
   "id": "ae404d93",
   "metadata": {},
   "outputs": [
    {
     "data": {
      "text/plain": [
       "'Engineer'"
      ]
     },
     "execution_count": 8,
     "metadata": {},
     "output_type": "execute_result"
    }
   ],
   "source": [
    "# Exercise 1\n",
    "\n",
    "d = {'Name':'Alice', 'Age':25,'Occupation':\"Engineer\"}\n",
    "\n",
    "d['Occupation']\n"
   ]
  },
  {
   "cell_type": "markdown",
   "id": "5b0973fa",
   "metadata": {},
   "source": [
    "### Intermediate Exercise\n",
    "2. Write a function that merges two dictionaries. If keys overlap, sum their values.\n"
   ]
  },
  {
   "cell_type": "code",
   "execution_count": 9,
   "id": "f98e9b25",
   "metadata": {},
   "outputs": [
    {
     "data": {
      "text/plain": [
       "{'Name': 'Alice, Thomas',\n",
       " 'Age': 67,\n",
       " 'Occupation': 'Engineer, Teacher',\n",
       " 'Day': 'Tuesday',\n",
       " 'Experience': 5}"
      ]
     },
     "execution_count": 9,
     "metadata": {},
     "output_type": "execute_result"
    }
   ],
   "source": [
    "# Exercise 2. Write a function that merges two dictionaries. If keys overlap, sum their values.\n",
    "\n",
    "\n",
    "def merger(d1,d2):\n",
    "\n",
    "    merged_d = {}\n",
    "\n",
    "    for k,v in d1.items():\n",
    "        if k in d2:\n",
    "            if (type(d1[k]) == int) or (type(d1[k]) == float): #not Pythonic but oh well...\n",
    "                merged_d[k] = d1[k] + d2[k]\n",
    "            if type(d1[k]) == str:\n",
    "                merged_d[k] = f'{d1[k]}' + ', ' + f'{d2[k]}'\n",
    "            else:\n",
    "                pass\n",
    "        else:\n",
    "            merged_d[k] = v\n",
    "\n",
    "    for k,v in d2.items():\n",
    "        if k in d1:\n",
    "            pass\n",
    "        else:\n",
    "            merged_d[k] = v\n",
    "\n",
    "    return merged_d\n",
    "\n",
    "\n",
    "\n",
    "d1 = {'Name':'Alice', 'Age':25,'Occupation':\"Engineer\"}\n",
    "d2 = {'Day':'Tuesday', 'Age':42,'Experience':5, 'Name':'Thomas', 'Occupation':'Teacher'}\n",
    "\n",
    "merger(d1,d2)\n"
   ]
  },
  {
   "cell_type": "markdown",
   "id": "f8a41ece",
   "metadata": {},
   "source": [
    "### Advanced Challenge\n",
    "3. Create a function that takes a list of words and returns a dictionary with the frequency count of each letter."
   ]
  },
  {
   "cell_type": "code",
   "execution_count": 12,
   "id": "bf40d109",
   "metadata": {},
   "outputs": [
    {
     "data": {
      "text/plain": [
       "{'z': 2,\n",
       " 'e': 13,\n",
       " 'd': 4,\n",
       " 'r': 11,\n",
       " 'a': 23,\n",
       " 'm': 4,\n",
       " 'c': 8,\n",
       " 'o': 3,\n",
       " 'h': 8,\n",
       " 'n': 10,\n",
       " 'y': 1,\n",
       " 'u': 3,\n",
       " 't': 4,\n",
       " 'i': 11,\n",
       " 's': 2,\n",
       " 'l': 6,\n",
       " 'q': 1,\n",
       " 'p': 1,\n",
       " 'v': 3,\n",
       " 'k': 3,\n",
       " 'j': 1,\n",
       " 'g': 1,\n",
       " 'f': 1,\n",
       " 'b': 2}"
      ]
     },
     "execution_count": 12,
     "metadata": {},
     "output_type": "execute_result"
    }
   ],
   "source": [
    "# Exercise 3. Create a function that takes a list of words and returns a dictionary with the frequency count of each letter.\n",
    "\n",
    "\n",
    "def counter(lst):\n",
    "    letter_dict = {}\n",
    "\n",
    "    for w in range(0, len(lst)):\n",
    "        \n",
    "\n",
    "        word = lst.pop()\n",
    "        word = word.lower()\n",
    "        for l in word:\n",
    "                if letter_dict.get(l) == None:\n",
    "                     letter_dict[l] = 1\n",
    "                else:\n",
    "                      letter_dict[l] += 1\n",
    "    return letter_dict\n",
    "\n",
    "\n",
    "names = [\n",
    "    \"Alice\", \"Bob\", \"Charlie\", \"David\", \n",
    "    \"Eve\", \"Frank\", \"Grace\", \"Hannah\", \n",
    "    \"Isaac\", \"Jack\",\"Katherine\", \"Liam\",\n",
    "    \"Mia\", \"Nathan\", \"Olivia\", \"Peter\", \n",
    "    \"Quinn\", \"Rachel\", \"Samuel\", \n",
    "    \"Tina\", \"Zach\", 'Rudra', \"Henry\", \"Marco\",\n",
    "    'Zedra'\n",
    "\n",
    "\n",
    "]\n",
    "\n",
    "counter(names)\n"
   ]
  },
  {
   "cell_type": "code",
   "execution_count": null,
   "id": "faf7bb8f",
   "metadata": {},
   "outputs": [],
   "source": []
  },
  {
   "cell_type": "code",
   "execution_count": null,
   "id": "3a22ed80",
   "metadata": {},
   "outputs": [],
   "source": []
  },
  {
   "cell_type": "code",
   "execution_count": null,
   "id": "2a7b1936",
   "metadata": {},
   "outputs": [],
   "source": []
  },
  {
   "cell_type": "code",
   "execution_count": null,
   "id": "bf060639",
   "metadata": {},
   "outputs": [],
   "source": []
  }
 ],
 "metadata": {
  "kernelspec": {
   "display_name": "base",
   "language": "python",
   "name": "python3"
  },
  "language_info": {
   "codemirror_mode": {
    "name": "ipython",
    "version": 3
   },
   "file_extension": ".py",
   "mimetype": "text/x-python",
   "name": "python",
   "nbconvert_exporter": "python",
   "pygments_lexer": "ipython3",
   "version": "3.12.7"
  }
 },
 "nbformat": 4,
 "nbformat_minor": 5
}
